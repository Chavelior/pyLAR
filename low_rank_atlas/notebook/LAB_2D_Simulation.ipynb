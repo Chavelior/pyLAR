{
 "metadata": {
  "name": "",
  "signature": "sha256:bc187a733839d48f0b1cb01e147ddedbdeddf58fa40424b2527d1ca081685889"
 },
 "nbformat": 3,
 "nbformat_minor": 0,
 "worksheets": [
  {
   "cells": [
    {
     "cell_type": "code",
     "collapsed": false,
     "input": [
      "import glob\n",
      "import sys\n",
      "import os.path\n",
      "sys.path.append('../')\n",
      "sys.path.append('../../')\n",
      "from low_rank_atlas_iter import *\n",
      "import SimpleITK as sitk\n",
      "import Image"
     ],
     "language": "python",
     "metadata": {},
     "outputs": [],
     "prompt_number": 54
    },
    {
     "cell_type": "code",
     "collapsed": false,
     "input": [
      "# global parameters\n",
      "EXE_ConvertToJpg = '/Users/xiaoxiaoliu/work/bin/ANTS/bin/ConvertToJpg'\n",
      "data_folder = '/Users/xiaoxiaoliu/work/data/BullEyeSimulation/2D'\n",
      "input_folder = data_folder\n",
      "result_folder = data_folder +'/LRA_Results'\n",
      "UAB_result_folder = data_folder +'/UAB_Results'\n",
      "GT_UAB_result_folder = data_folder +'/GT_UAB_Results'\n",
      "os.system('mkdir '+ result_folder)\n",
      "os.system('mkdir '+ UAB_result_folder)\n",
      "\n",
      "im_names = glob.glob(input_folder+'/simu*.*')\n",
      "\n",
      "num_of_data = len(im_names)\n",
      "x_dim = 64\n",
      "y_dim = 64\n",
      "\n",
      "VIS = 0\n",
      "#print im_names\n",
      "\n",
      "# data selection\n",
      "selection = range(num_of_data)\n",
      "num_of_data = len(selection)\n",
      "\n",
      "\n",
      "\n",
      "NUM_OF_ITERATIONS = 5"
     ],
     "language": "python",
     "metadata": {},
     "outputs": [],
     "prompt_number": 55
    },
    {
     "cell_type": "code",
     "collapsed": false,
     "input": [
      "def getImageArray(fn, CONVERT= False):\n",
      "    if CONVERT:\n",
      "        img = Image.open(fn).convert('LA')\n",
      "        newImFn = os.path.splitext(fn)[0]+'.png'\n",
      "        img.save(newImFn)\n",
      "        convertToJpg(newImFn)\n",
      "        os.system('rm '+newImFn)\n",
      "        newImFn = os.path.splitext(fn)[0]+'.jpg'\n",
      "        fn = newImFn\n",
      "    \n",
      "    im = sitk.ReadImage(fn)\n",
      "    im_array = sitk.GetArrayFromImage(im)\n",
      "    return im_array\n",
      "\n",
      "def convertToJpg(fn):\n",
      "    outputFn = os.path.splitext(fn)[0]+'.jpg'\n",
      "    cmd = EXE_ConvertToJpg + ' ' + fn + ' ' + outputFn\n",
      "    os.system(cmd)\n",
      "    return outputFn"
     ],
     "language": "python",
     "metadata": {},
     "outputs": [],
     "prompt_number": 56
    },
    {
     "cell_type": "code",
     "collapsed": false,
     "input": [
      "print 'Simulated Bullseye dataset with added varying-size circles:'\n",
      "plt.figure(figsize=(15,5)) \n",
      "for i in range(num_of_data):\n",
      "        fn = im_names[selection[i]]\n",
      "        im_array = getImageArray(fn)\n",
      "        plt.subplot(1,num_of_data,i+1)\n",
      "        implot = plt.imshow(im_array,cm.gray) \n",
      "        plt.axis('off')  \n",
      "        iter0Fn = result_folder+'/Iter0_'+str(i)+'.nrrd'\n",
      "       \n",
      "        im = sitk.GetImageFromArray(im_array)\n",
      "        sitk.WriteImage(im,iter0Fn)\n"
     ],
     "language": "python",
     "metadata": {},
     "outputs": [
      {
       "output_type": "stream",
       "stream": "stdout",
       "text": [
        "Simulated Bullseye dataset with added varying-size circles:\n"
       ]
      },
      {
       "metadata": {},
       "output_type": "display_data",
       "png": "[encoded data removed]",
       "text": [
        "<matplotlib.figure.Figure at 0x112ead290>"
       ]
      }
     ],
     "prompt_number": 57
    },
    {
     "cell_type": "code",
     "collapsed": false,
     "input": [
      "# Testing ANTS registration, set parameters\n",
      "fixedIm =  result_folder+'/Iter0_'+str(4)+'.nrrd'\n",
      "movingIm =  result_folder+'/Iter0_'+str(6)+'.nrrd'\n",
      "\n",
      "antsParams =  {\n",
      "'Dimension': 2,\\\n",
      "'Convergence' : '[200x100,1e-6,10]',\\\n",
      "'ShrinkFactors' : '2x1',\\\n",
      "'SmoothingSigmas' : '1x0vox',\\\n",
      "'Transform' :'SyN[0.1,1,0]',\\\n",
      "#'Metric': 'Mattes[%s,%s,1,50]' %(fixedIm, movingIm)\n",
      "'Metric': 'MeanSquares[fixedIm,movingIm, 1,0]' # the file name will be replaced inside the ANTS()\n",
      "}\n",
      "# Mattes[f,m ,weight, histogramb_in_size,samplingmethod, samplingPercentage]     \n",
      "#'Metric': 'Mattes[%s,%s,1,50]' %(fixedIm, movingIm)}\n",
      "\n",
      "cmd = ANTS(fixedIm, movingIm,result_folder+'/test',antsParams)\n",
      "#print cmd\n",
      "os.system(cmd)\n",
      "warpedImFn = result_folder+ '/testWarped.nrrd'\n",
      "#warpedImFn = convertToJpg(warpedImFn)\n",
      "\n",
      "plt.figure(figsize=(10,3))\n",
      "plt.subplot(131)\n",
      "plt.title('fixed')\n",
      "plt.imshow(getImageArray(fixedIm),cm.gray) \n",
      "plt.subplot(132)\n",
      "plt.title('moving')\n",
      "plt.imshow(getImageArray(movingIm),cm.gray) \n",
      "plt.subplot(133)\n",
      "plt.title('warped')\n",
      "plt.imshow(getImageArray(warpedImFn),cm.gray) \n"
     ],
     "language": "python",
     "metadata": {},
     "outputs": [
      {
       "metadata": {},
       "output_type": "pyout",
       "prompt_number": 58,
       "text": [
        "<matplotlib.image.AxesImage at 0x11300c3d0>"
       ]
      },
      {
       "metadata": {},
       "output_type": "display_data",
       "png": "[encoded data removed]",
       "text": [
        "<matplotlib.figure.Figure at 0x1137f1450>"
       ]
      }
     ],
     "prompt_number": 58
    },
    {
     "cell_type": "code",
     "collapsed": false,
     "input": [
      "def saveImagesFromDM(D, filePrefix):\n",
      "    for i in range(num_of_data):\n",
      "        im_array = np.array(D[:,i].reshape(x_dim, y_dim))\n",
      "        im = sitk.GetImageFromArray(im_array)\n",
      "        sitk.WriteImage(im,filePrefix +str(i)+ '.nrrd')\n",
      "        \n",
      "def averageImageFromDM(D, fileName):        \n",
      "        m = np.average(D,1)\n",
      "        atlas = m.reshape(x_dim,y_dim)\n",
      "        im = sitk.GetImageFromArray(atlas)\n",
      "        sitk.WriteImage(im,fileName)\n",
      "        \n",
      "def showSlice(D, titleN,color,row, referenceIm=None):\n",
      "    for i in range(num_of_data):\n",
      "       im = np.array(D[:,i].reshape(x_dim,y_dim))\n",
      "        \n",
      "       plt.subplot2grid((3,num_of_data),(row,i))\n",
      "       implot = plt.imshow(im,color)\n",
      "       plt.axis('off')\n",
      "       plt.title(titleN+' '+str(i))"
     ],
     "language": "python",
     "metadata": {},
     "outputs": [],
     "prompt_number": 59
    },
    {
     "cell_type": "code",
     "collapsed": false,
     "input": [
      "# traditional unbiased atlas building (UAB)\n",
      "def runUABIteration(currentIter,result_path):\n",
      "     \n",
      "    atlasIm = result_path + '/average_UAB_iter'+str(currentIter-1)+'.nrrd'\n",
      "    \n",
      "    for i in range(num_of_data):\n",
      "        initialInputImage = result_path+'/Iter0_' +str(i) +  '.nrrd'\n",
      "        newInputImage = result_path+'/Iter'+ str(currentIter)+'_' +str(i) +  '.nrrd'\n",
      "          \n",
      "        # deform with an intial moving transform from previous iteration\n",
      "        initialTransform = None\n",
      "            \n",
      "        outputTransformPrefix = result_path +'/Iter' + str(currentIter) +'_'+str(i)+'_' \n",
      "        # usage: ANTS(fixedIm,movingIm,outputTransformPrefix,params,initialTransform=None, EXECUTE = False):\n",
      "        cmd = ANTS(atlasIm, initialInputImage,outputTransformPrefix,antsParams, initialTransform, True)\n",
      "        # Update input image to update the average image\n",
      "        ## ANTSWarp2DImage(inputIm, outputIm, referenceIm, transformPrefix,inverse = False, EXECUTE = False):\n",
      "        # ANTSWarp2DImage(initialInputImage,newInputImage, atlasIm,outputTransformPrefix, False,True)\n",
      "          \n",
      "   \n",
      "    A = np.zeros((x_dim*y_dim,num_of_data))\n",
      "    for i in range(num_of_data):\n",
      "        #fn = result_path+'/Iter'+ str(currentIter)+'_' +str(i) +  '.nrrd'\n",
      "        fn = result_path+'/Iter'+ str(currentIter)+'_' +str(i)+'_Warped.nrrd'\n",
      "        im_array = getImageArray(fn)\n",
      "        A[:,i] = im_array.reshape(-1)\n",
      "    newAtlasIm = result_path + '/average_UAB_iter'+str(currentIter)+'.nrrd'  \n",
      "    averageImageFromDM(A,newAtlasIm)\n",
      "        \n",
      "    newAtlas = getImageArray(newAtlasIm)\n",
      "\n",
      "    plt.subplot(1,NUM_OF_ITERATIONS+2,currentIter+1)\n",
      "    plt.imshow(newAtlas, cm.gray)\n",
      "    plt.title( 'Iter %s UAB atlas' %(currentIter))\n",
      "    plt.axis('off')\n",
      "          \n",
      "       \n",
      "    return\n",
      "\n",
      "\n",
      "###################################### run UAB #######################\n",
      "\n",
      "def  runUAB(result_path):\n",
      "    Y = np.zeros((x_dim*y_dim,num_of_data))\n",
      "    for i in range(num_of_data):\n",
      "        fn = result_path +'/Iter0_'+str(i)+'.nrrd'\n",
      "        im_array = getImageArray(fn)\n",
      "        Y[:,i] = im_array.reshape(-1)\n",
      "    m = np.average(Y,1)\n",
      "    atlas = m.reshape(x_dim,y_dim)\n",
      "    im = sitk.GetImageFromArray(atlas) \n",
      "    sitk.WriteImage(im,result_path +'/average_UAB_iter0.nrrd')\n",
      "    plt.figure(figsize=(20,10))\n",
      "    plt.subplot(1,NUM_OF_ITERATIONS+2,1)\n",
      "    plt.imshow(atlas, cm.gray,vmin = 0, vmax = 100)\n",
      "    plt.title( 'Iter 0 UAB atlas')\n",
      "    plt.axis('off')\n",
      "    \n",
      "    for k in range(1,NUM_OF_ITERATIONS+1):\n",
      "        print 'iter'+str(k)\n",
      "        runUABIteration(k,result_path)\n",
      "    \n",
      "    ###########  comparison vis #############\n",
      "    fn = data_folder + '/fMeanSimu'+'.nrrd'\n",
      "    im_array_gt = getImageArray(fn)\n",
      "\n",
      "    fn = result_path + '/average_UAB_iter'+str(NUM_OF_ITERATIONS)+'.nrrd'\n",
      "    im_array = getImageArray(fn)\n",
      "    \n",
      "   \n",
      "    diff = im_array - im_array_gt\n",
      "    print 'max =',np.max(diff)\n",
      "    print 'min =',np.min(diff)\n",
      "    plt.subplot(1,NUM_OF_ITERATIONS+2,NUM_OF_ITERATIONS+2)\n",
      "    plt.imshow(diff,cm.gray,vmin = -80, vmax = 80)\n",
      "    plt.title('diff')\n",
      "    plt.axis('off') \n",
      "    \n",
      "    a = sum(sum(pow(diff,2)))\n",
      "    print 'total ssd = ',a\n",
      "    return a\n"
     ],
     "language": "python",
     "metadata": {},
     "outputs": [],
     "prompt_number": 60
    },
    {
     "cell_type": "code",
     "collapsed": false,
     "input": [
      "###############################  the main LAB (low-rank atlas building) pipeline #############################\n",
      "def runLABIteration(currentIter, sigma,lamda):\n",
      "    # run RPCA\n",
      "    Y = np.zeros((x_dim*y_dim,num_of_data))\n",
      "    for i in range(num_of_data) :\n",
      "        im_file =  result_folder+'/'+ 'Iter'+str(currentIter - 1)+'_' + str(i)  + '.nrrd'  \n",
      "        inIm = sitk.ReadImage(im_file)\n",
      "        outIm = inIm\n",
      "        if sigma > 0:\n",
      "            srg = sitk.SmoothingRecursiveGaussianImageFilter()\n",
      "            srg.SetSigma(sigma)\n",
      "            outIm = srg.Execute(inIm)\n",
      "        tmp = sitk.GetArrayFromImage(outIm)\n",
      "        Y[:,i] = tmp.reshape(-1)\n",
      "    \n",
      "    low_rank, sparse, n_iter,rank, sparsity, sparseness = rpca(Y,lamda)\n",
      "    saveImagesFromDM(low_rank,result_folder+'/'+ 'Iter'+str(currentIter) +'_LowRank_')\n",
      "    saveImagesFromDM(sparse,result_folder+'/'+ 'Iter'+str(currentIter) +'_Sparse_')\n",
      "    \n",
      "    \n",
      "    # visualize and inspect\n",
      "    if VIS == 1:\n",
      "        fig = plt.figure(figsize=(15,5))\n",
      "        showSlice(Y, 'Iter'+str(currentIter) +' Input',cm.gray,0)    \n",
      "        showSlice(low_rank,'Iter'+str(currentIter) +' low rank',cm.gray,1)\n",
      "        showSlice(sparse,'Iter'+str(currentIter) +' sparse',cm.gray,2)\n",
      "        savefig(result_folder+'/'+'Iter'+ str(currentIter)+'.jpg')\n",
      "    \n",
      "    \n",
      "     # Compute the mean of low_rank as the atlas image\n",
      "    atlasIm = result_folder + '/average_iter'+str(currentIter)+'.nrrd'\n",
      "    if currentIter == 1 :\n",
      "        averageImageFromDM(low_rank,atlasIm)     \n",
      "    else:\n",
      "        A = np.zeros((x_dim*y_dim,num_of_data))\n",
      "        for i in range(num_of_data):\n",
      "            # get inverse transformed low rank image\n",
      "            lowRankIm = result_folder+'/'+ 'Iter'+str(currentIter)+'_LowRank_' + str(i)  +'.nrrd'\n",
      "            invWarpedlowRankIm = result_folder+'/Iter'+str(currentIter)+ '_InvWarped_LowRank_' + str(i)  +'.nrrd'\n",
      "            previousOutputTransformPrefix = result_folder+'/Iter'+ str(currentIter-1)+'_'+str(i)+'_'\n",
      "            ANTSWarp2DImage(lowRankIm,invWarpedlowRankIm, lowRankIm,previousOutputTransformPrefix,True, True)\n",
      "            tmp = getImageArray(lowRankIm)\n",
      "            A[:,i] = tmp.reshape(-1)\n",
      "        averageImageFromDM(A,atlasIm)\n",
      "        \n",
      "    atlas = getImageArray(atlasIm)\n",
      "   \n",
      "    # register low-rank images to the atlas(average) image\n",
      "    for i in range(num_of_data):\n",
      "        newInputImage = result_folder+'/Iter'+ str(currentIter)+'_' +str(i) +  '.nrrd'\n",
      "        initialInputImage = result_folder+'/Iter0_' +str(i) +  '.nrrd'\n",
      "\n",
      "        # deform with an intial moving transform from previous iteration\n",
      "        initialTransform = None\n",
      "        invWarpedlowRankIm = result_folder+'/'+ 'Iter1_LowRank_' + str(i)  +'.nrrd'\n",
      "        if currentIter > 1:\n",
      "           # initialTransform = result_folder + '/Iter'+str(currentIter-1)+'_'+str(i)+'_0Warp.nii.gz'\n",
      "            invWarpedlowRankIm = result_folder+'/Iter'+str(currentIter)+ '_InvWarped_LowRank_' + str(i)  +'.nrrd'\n",
      "        # register the inversely warped low rank image to the atlas image\n",
      "        outputTransformPrefix = result_folder +'/Iter' + str(currentIter) +'_'+str(i)+'_' \n",
      "        cmd = ANTS(atlasIm, invWarpedlowRankIm,outputTransformPrefix,antsParams, initialTransform, True)\n",
      "        #print cmd\n",
      "        # Update input image for the next iteration\n",
      "        ANTSWarp2DImage(initialInputImage,newInputImage, atlasIm,outputTransformPrefix, False,True)\n",
      "       \n",
      "    return\n",
      "    \n",
      "    \n",
      "######################################## Run Low-rank Atlas Buildling #######################\n",
      "def  runLAB(lamda):\n",
      "    print \"lamda = \",lamda\n",
      "    sigma = 0\n",
      "    for k in range(1,NUM_OF_ITERATIONS+1):\n",
      "        print 'iter'+str(k)\n",
      "        runLABIteration(k,sigma,lamda)\n",
      "    \n",
      "   # print \" low-rank atlas over iterations\"\n",
      "    #plt.figure(figsize=(15,10))\n",
      "    #for currentIter in range(1,NUM_OF_ITERATIONS):\n",
      "     #   fn = result_folder+ '/average_iter'+ str(currentIter) +'.nrrd'\n",
      "     #   im_array = getImageArray(fn)\n",
      "     #   plt.subplot(1,NUM_OF_ITERATIONS,currentIter)\n",
      "     #   plt.imshow(im_array,cm.gray) \n",
      "     #   plt.title( 'LAB Iter'+str(currentIter))\n",
      "    \n",
      "    ###########  comparison vis #############\n",
      "    plt.figure(figsize=(15,5))\n",
      "    fn = result_folder + '/average_iter'+str(NUM_OF_ITERATIONS)+'.nrrd'\n",
      "    im_array_ula = getImageArray(fn)\n",
      "\n",
      "    fn =data_folder + '/fMeanSimu'+'.nrrd'\n",
      "    im_array_gt = getImageArray(fn)\n",
      "   \n",
      "    diff = im_array_ula-im_array_gt\n",
      "    plt.title('diff')\n",
      "    plt.imshow(diff,cm.gray,vmin = -80, vmax = 80)\n",
      "\n",
      "    print 'max =',np.max(diff)\n",
      "    print 'min =',np.min(diff)\n",
      "\n",
      "    a = sum(sum(pow(diff,2)))\n",
      "    print 'total ssd = ',a\n",
      "    return a\n"
     ],
     "language": "python",
     "metadata": {},
     "outputs": [],
     "prompt_number": 61
    },
    {
     "cell_type": "code",
     "collapsed": false,
     "input": [
      "lamdaList = arange(0.3,2.5,0.1)\n",
      "d = np.zeros(len(lamdaList))\n",
      "for i in range(len(lamdaList)):\n",
      "    d[i] = runLAB(lamdaList[i])\n"
     ],
     "language": "python",
     "metadata": {},
     "outputs": [
      {
       "output_type": "stream",
       "stream": "stdout",
       "text": [
        "lamda =  0.3\n",
        "iter1\n",
        "[iter: 0000]: rank(P) = 0002, |C|_0 = 5196, crit=0.3107223226, total sparse =150477\n",
        "[iter: 0010]: rank(P) = 0002, |C|_0 = 9107, crit=0.0016486236, total sparse =73992\n",
        "[iter: 0020]: rank(P) = 0002, |C|_0 = 12070, crit=0.0000272728, total sparse =73737\n",
        "[iter: 0030]: rank(P) = 0002, |C|_0 = 16761, crit=0.0000005662, total sparse =73737"
       ]
      },
      {
       "output_type": "stream",
       "stream": "stdout",
       "text": [
        "\n",
        "RPCA takes:0.179633 seconds"
       ]
      },
      {
       "output_type": "stream",
       "stream": "stdout",
       "text": [
        "\n",
        "iter2"
       ]
      },
      {
       "output_type": "stream",
       "stream": "stdout",
       "text": [
        "\n",
        "[iter: 0000]: rank(P) = 0002, |C|_0 = 5197, crit=0.3106831372, total sparse =150528\n",
        "[iter: 0010]: rank(P) = 0002, |C|_0 = 9771, crit=0.0022032874, total sparse =74740\n",
        "[iter: 0020]: rank(P) = 0002, |C|_0 = 16314, crit=0.0000308862, total sparse =74826\n",
        "[iter: 0030]: rank(P) = 0002, |C|_0 = 20164, crit=0.0000005661, total sparse =74822"
       ]
      },
      {
       "output_type": "stream",
       "stream": "stdout",
       "text": [
        "\n",
        "RPCA takes:0.150100 seconds"
       ]
      },
      {
       "output_type": "stream",
       "stream": "stdout",
       "text": [
        "\n",
        "iter3"
       ]
      },
      {
       "output_type": "stream",
       "stream": "stdout",
       "text": [
        "\n",
        "[iter: 0000]: rank(P) = 0002, |C|_0 = 5196, crit=0.3107910382, total sparse =150506\n",
        "[iter: 0010]: rank(P) = 0002, |C|_0 = 10135, crit=0.0021264030, total sparse =74950\n",
        "[iter: 0020]: rank(P) = 0002, |C|_0 = 15655, crit=0.0000333968, total sparse =74948\n",
        "[iter: 0030]: rank(P) = 0002, |C|_0 = 20032, crit=0.0000005476, total sparse =74950"
       ]
      },
      {
       "output_type": "stream",
       "stream": "stdout",
       "text": [
        "\n",
        "RPCA takes:0.152325 seconds"
       ]
      },
      {
       "output_type": "stream",
       "stream": "stdout",
       "text": [
        "\n",
        "iter4"
       ]
      },
      {
       "output_type": "stream",
       "stream": "stdout",
       "text": [
        "\n",
        "[iter: 0000]: rank(P) = 0002, |C|_0 = 5196, crit=0.3106107523, total sparse =150469\n",
        "[iter: 0010]: rank(P) = 0002, |C|_0 = 10169, crit=0.0022117462, total sparse =74680\n",
        "[iter: 0020]: rank(P) = 0002, |C|_0 = 15762, crit=0.0000317373, total sparse =74738\n",
        "[iter: 0030]: rank(P) = 0002, |C|_0 = 19848, crit=0.0000005763, total sparse =74740"
       ]
      },
      {
       "output_type": "stream",
       "stream": "stdout",
       "text": [
        "\n",
        "RPCA takes:0.138309 seconds"
       ]
      },
      {
       "output_type": "stream",
       "stream": "stdout",
       "text": [
        "\n",
        "iter5"
       ]
      },
      {
       "output_type": "stream",
       "stream": "stdout",
       "text": [
        "\n",
        "[iter: 0000]: rank(P) = 0002, |C|_0 = 5196, crit=0.3107408039, total sparse =150500\n",
        "[iter: 0010]: rank(P) = 0002, |C|_0 = 10016, crit=0.0021793319, total sparse =74687\n",
        "[iter: 0020]: rank(P) = 0002, |C|_0 = 15796, crit=0.0000305567, total sparse =74725\n",
        "[iter: 0030]: rank(P) = 0002, |C|_0 = 19825, crit=0.0000005361, total sparse =74725"
       ]
      },
      {
       "output_type": "stream",
       "stream": "stdout",
       "text": [
        "\n",
        "RPCA takes:0.137435 seconds"
       ]
      },
      {
       "output_type": "stream",
       "stream": "stdout",
       "text": [
        "\n",
        "max ="
       ]
      },
      {
       "output_type": "stream",
       "stream": "stdout",
       "text": [
        " 0.370796346849\n",
        "min = -16.5307376862\n",
        "total ssd =  75874.066382\n",
        "lamda =  0.4\n",
        "iter1\n",
        "[iter: 0000]: rank(P) = 0002, |C|_0 = 4371, crit=0.1696353315, total sparse =117678\n",
        "[iter: 0010]: rank(P) = 0003, |C|_0 = 7604, crit=0.0022374887, total sparse =41509"
       ]
      },
      {
       "output_type": "stream",
       "stream": "stdout",
       "text": [
        "\n",
        "[iter: 0020]: rank(P) = 0003, |C|_0 = 11058, crit=0.0000394736, total sparse =41745\n",
        "[iter: 0030]: rank(P) = 0004, |C|_0 = 14755, crit=0.0000007411, total sparse =41748\n",
        "RPCA takes:0.157858 seconds"
       ]
      },
      {
       "output_type": "stream",
       "stream": "stdout",
       "text": [
        "\n",
        "iter2"
       ]
      },
      {
       "output_type": "stream",
       "stream": "stdout",
       "text": [
        "\n",
        "[iter: 0000]: rank(P) = 0002, |C|_0 = 4383, crit=0.1694675855, total sparse =117583\n",
        "[iter: 0010]: rank(P) = 0003, |C|_0 = 8226, crit=0.0030380695, total sparse =41656\n",
        "[iter: 0020]: rank(P) = 0004, |C|_0 = 13996, crit=0.0000448705, total sparse =41977\n",
        "[iter: 0030]: rank(P) = 0004, |C|_0 = 17490, crit=0.0000006356, total sparse =41976"
       ]
      },
      {
       "output_type": "stream",
       "stream": "stdout",
       "text": [
        "\n",
        "RPCA takes:0.186296 seconds"
       ]
      },
      {
       "output_type": "stream",
       "stream": "stdout",
       "text": [
        "\n",
        "iter3"
       ]
      },
      {
       "output_type": "stream",
       "stream": "stdout",
       "text": [
        "\n",
        "[iter: 0000]: rank(P) = 0002, |C|_0 = 4392, crit=0.1691241947, total sparse =117538\n",
        "[iter: 0010]: rank(P) = 0003, |C|_0 = 8410, crit=0.0030491310, total sparse =41717\n",
        "[iter: 0020]: rank(P) = 0004, |C|_0 = 14406, crit=0.0000391013, total sparse =42191\n",
        "[iter: 0030]: rank(P) = 0005, |C|_0 = 17966, crit=0.0000006878, total sparse =42191"
       ]
      },
      {
       "output_type": "stream",
       "stream": "stdout",
       "text": [
        "\n",
        "RPCA takes:0.180520 seconds"
       ]
      },
      {
       "output_type": "stream",
       "stream": "stdout",
       "text": [
        "\n",
        "iter4"
       ]
      },
      {
       "output_type": "stream",
       "stream": "stdout",
       "text": [
        "\n",
        "[iter: 0000]: rank(P) = 0002, |C|_0 = 4398, crit=0.1691455607, total sparse =117466\n",
        "[iter: 0010]: rank(P) = 0003, |C|_0 = 8957, crit=0.0029344384, total sparse =41917\n",
        "[iter: 0020]: rank(P) = 0004, |C|_0 = 14367, crit=0.0000370053, total sparse =42450\n",
        "[iter: 0030]: rank(P) = 0004, |C|_0 = 17626, crit=0.0000007037, total sparse =42452"
       ]
      },
      {
       "output_type": "stream",
       "stream": "stdout",
       "text": [
        "\n",
        "RPCA takes:0.151929 seconds"
       ]
      },
      {
       "output_type": "stream",
       "stream": "stdout",
       "text": [
        "\n",
        "iter5"
       ]
      },
      {
       "output_type": "stream",
       "stream": "stdout",
       "text": [
        "\n",
        "[iter: 0000]: rank(P) = 0002, |C|_0 = 4387, crit=0.1691288761, total sparse =117394\n",
        "[iter: 0010]: rank(P) = 0003, |C|_0 = 8955, crit=0.0029004558, total sparse =41844\n",
        "[iter: 0020]: rank(P) = 0004, |C|_0 = 14957, crit=0.0000436932, total sparse =42506\n",
        "[iter: 0030]: rank(P) = 0004, |C|_0 = 18446, crit=0.0000007001, total sparse =42505"
       ]
      },
      {
       "output_type": "stream",
       "stream": "stdout",
       "text": [
        "\n",
        "RPCA takes:0.146410 seconds"
       ]
      },
      {
       "output_type": "stream",
       "stream": "stdout",
       "text": [
        "\n",
        "max ="
       ]
      },
      {
       "output_type": "stream",
       "stream": "stdout",
       "text": [
        " 1.2091511721\n",
        "min = -8.30035190475\n",
        "total ssd =  8136.17225326\n",
        "lamda =  0.5\n",
        "iter1\n",
        "[iter: 0000]: rank(P) = 0002, |C|_0 = 3797, crit=0.1202769675, total sparse =68635\n",
        "[iter: 0010]: rank(P) = 0003, |C|_0 = 5044, crit=0.0022656110, total sparse =34438\n",
        "[iter: 0020]: rank(P) = 0004, |C|_0 = 8000, crit=0.0000477340, total sparse =34770\n",
        "[iter: 0030]: rank(P) = 0006, |C|_0 = 12247, crit=0.0000007797, total sparse =34778"
       ]
      },
      {
       "output_type": "stream",
       "stream": "stdout",
       "text": [
        "\n",
        "RPCA takes:0.149786 seconds"
       ]
      },
      {
       "output_type": "stream",
       "stream": "stdout",
       "text": [
        "\n",
        "iter2"
       ]
      },
      {
       "output_type": "stream",
       "stream": "stdout",
       "text": [
        "\n",
        "[iter: 0000]: rank(P) = 0002, |C|_0 = 3767, crit=0.1184203617, total sparse =67966\n",
        "[iter: 0010]: rank(P) = 0003, |C|_0 = 5356, crit=0.0030990938, total sparse =32724\n",
        "[iter: 0020]: rank(P) = 0005, |C|_0 = 11296, crit=0.0000525175, total sparse =33287\n",
        "[iter: 0030]: rank(P) = 0006, |C|_0 = 14538, crit=0.0000006011, total sparse =33286"
       ]
      },
      {
       "output_type": "stream",
       "stream": "stdout",
       "text": [
        "\n",
        "RPCA takes:0.161880 seconds"
       ]
      },
      {
       "output_type": "stream",
       "stream": "stdout",
       "text": [
        "\n",
        "iter3"
       ]
      },
      {
       "output_type": "stream",
       "stream": "stdout",
       "text": [
        "\n",
        "[iter: 0000]: rank(P) = 0002, |C|_0 = 3738, crit=0.1178471140, total sparse =67857\n",
        "[iter: 0010]: rank(P) = 0003, |C|_0 = 5063, crit=0.0036589112, total sparse =31343\n",
        "[iter: 0020]: rank(P) = 0005, |C|_0 = 11896, crit=0.0000561763, total sparse =32081\n",
        "[iter: 0030]: rank(P) = 0007, |C|_0 = 15016, crit=0.0000007357, total sparse =32082"
       ]
      },
      {
       "output_type": "stream",
       "stream": "stdout",
       "text": [
        "\n",
        "RPCA takes:0.162778 seconds"
       ]
      },
      {
       "output_type": "stream",
       "stream": "stdout",
       "text": [
        "\n",
        "iter4"
       ]
      },
      {
       "output_type": "stream",
       "stream": "stdout",
       "text": [
        "\n",
        "[iter: 0000]: rank(P) = 0002, |C|_0 = 3739, crit=0.1174088977, total sparse =67776\n",
        "[iter: 0010]: rank(P) = 0003, |C|_0 = 5329, crit=0.0035169901, total sparse =30940\n",
        "[iter: 0020]: rank(P) = 0005, |C|_0 = 12721, crit=0.0000563729, total sparse =31564\n",
        "[iter: 0030]: rank(P) = 0006, |C|_0 = 15349, crit=0.0000006881, total sparse =31563"
       ]
      },
      {
       "output_type": "stream",
       "stream": "stdout",
       "text": [
        "\n",
        "RPCA takes:0.148099 seconds"
       ]
      },
      {
       "output_type": "stream",
       "stream": "stdout",
       "text": [
        "\n",
        "iter5"
       ]
      },
      {
       "output_type": "stream",
       "stream": "stdout",
       "text": [
        "\n",
        "[iter: 0000]: rank(P) = 0002, |C|_0 = 3743, crit=0.1171135681, total sparse =67719\n",
        "[iter: 0010]: rank(P) = 0003, |C|_0 = 5719, crit=0.0035377563, total sparse =30539\n",
        "[iter: 0020]: rank(P) = 0005, |C|_0 = 12336, crit=0.0000547817, total sparse =31138\n",
        "[iter: 0030]: rank(P) = 0008, |C|_0 = 15163, crit=0.0000007327, total sparse =31132"
       ]
      },
      {
       "output_type": "stream",
       "stream": "stdout",
       "text": [
        "\n",
        "RPCA takes:0.154318 seconds"
       ]
      },
      {
       "output_type": "stream",
       "stream": "stdout",
       "text": [
        "\n",
        "max ="
       ]
      },
      {
       "output_type": "stream",
       "stream": "stdout",
       "text": [
        " 0.530282473146\n",
        "min = -4.49451629012\n",
        "total ssd =  1979.82766537\n",
        "lamda =  0.6\n",
        "iter1\n",
        "[iter: 0000]: rank(P) = 0002, |C|_0 = 1818, crit=0.1131289186, total sparse =21514\n",
        "[iter: 0010]: rank(P) = 0004, |C|_0 = 3959, crit=0.0022626565, total sparse =27709\n",
        "[iter: 0020]: rank(P) = 0005, |C|_0 = 6851, crit=0.0000569397, total sparse =27944\n",
        "[iter: 0030]: rank(P) = 0007, |C|_0 = 9660, crit=0.0000004629, total sparse =27950"
       ]
      },
      {
       "output_type": "stream",
       "stream": "stdout",
       "text": [
        "\n",
        "RPCA takes:0.153299 seconds"
       ]
      },
      {
       "output_type": "stream",
       "stream": "stdout",
       "text": [
        "\n",
        "iter2"
       ]
      },
      {
       "output_type": "stream",
       "stream": "stdout",
       "text": [
        "\n",
        "[iter: 0000]: rank(P) = 0002, |C|_0 = 1842, crit=0.0969769512, total sparse =21388\n",
        "[iter: 0010]: rank(P) = 0003, |C|_0 = 3951, crit=0.0037255891, total sparse =23541\n",
        "[iter: 0020]: rank(P) = 0008, |C|_0 = 9183, crit=0.0000536934, total sparse =24266\n",
        "[iter: 0030]: rank(P) = 0008, |C|_0 = 9755, crit=0.0000000443, total sparse =24251"
       ]
      },
      {
       "output_type": "stream",
       "stream": "stdout",
       "text": [
        "\n",
        "RPCA takes:0.144592 seconds"
       ]
      },
      {
       "output_type": "stream",
       "stream": "stdout",
       "text": [
        "\n",
        "iter3"
       ]
      },
      {
       "output_type": "stream",
       "stream": "stdout",
       "text": [
        "\n",
        "[iter: 0000]: rank(P) = 0002, |C|_0 = 1862, crit=0.0907147999, total sparse =21489\n",
        "[iter: 0010]: rank(P) = 0003, |C|_0 = 3632, crit=0.0042580866, total sparse =21927\n",
        "[iter: 0020]: rank(P) = 0007, |C|_0 = 9839, crit=0.0000616649, total sparse =22646\n",
        "RPCA takes:0.137604 seconds"
       ]
      },
      {
       "output_type": "stream",
       "stream": "stdout",
       "text": [
        "\n",
        "iter4"
       ]
      },
      {
       "output_type": "stream",
       "stream": "stdout",
       "text": [
        "\n",
        "[iter: 0000]: rank(P) = 0002, |C|_0 = 1862, crit=0.0874934349, total sparse =21559\n",
        "[iter: 0010]: rank(P) = 0003, |C|_0 = 3706, crit=0.0042075020, total sparse =21425\n",
        "[iter: 0020]: rank(P) = 0008, |C|_0 = 9771, crit=0.0000551146, total sparse =22129\n",
        "RPCA takes:0.144974 seconds"
       ]
      },
      {
       "output_type": "stream",
       "stream": "stdout",
       "text": [
        "\n",
        "iter5"
       ]
      },
      {
       "output_type": "stream",
       "stream": "stdout",
       "text": [
        "\n",
        "[iter: 0000]: rank(P) = 0002, |C|_0 = 1890, crit=0.0856435545, total sparse =21565\n",
        "[iter: 0010]: rank(P) = 0003, |C|_0 = 3821, crit=0.0045130357, total sparse =20954\n",
        "[iter: 0020]: rank(P) = 0008, |C|_0 = 9408, crit=0.0000561929, total sparse =21459\n",
        "RPCA takes:0.150789 seconds"
       ]
      },
      {
       "output_type": "stream",
       "stream": "stdout",
       "text": [
        "\n",
        "max ="
       ]
      },
      {
       "output_type": "stream",
       "stream": "stdout",
       "text": [
        " 2.68245006218\n",
        "min = -1.72820038476\n",
        "total ssd =  511.237377865\n",
        "lamda =  0.7\n",
        "iter1\n",
        "[iter: 0000]: rank(P) = 0002, |C|_0 = 0170, crit=0.1242307088, total sparse =3689\n",
        "[iter: 0010]: rank(P) = 0004, |C|_0 = 3520, crit=0.0033598452, total sparse =22177\n",
        "[iter: 0020]: rank(P) = 0008, |C|_0 = 6196, crit=0.0000499431, total sparse =22610\n",
        "RPCA takes:0.140784 seconds"
       ]
      },
      {
       "output_type": "stream",
       "stream": "stdout",
       "text": [
        "\n",
        "iter2"
       ]
      },
      {
       "output_type": "stream",
       "stream": "stdout",
       "text": [
        "\n",
        "[iter: 0000]: rank(P) = 0002, |C|_0 = 0157, crit=0.0998902061, total sparse =3428\n",
        "[iter: 0010]: rank(P) = 0004, |C|_0 = 3171, crit=0.0048679364, total sparse =18111\n",
        "[iter: 0020]: rank(P) = 0008, |C|_0 = 7069, crit=0.0000171712, total sparse =18650\n",
        "RPCA takes:0.137925 seconds"
       ]
      },
      {
       "output_type": "stream",
       "stream": "stdout",
       "text": [
        "\n",
        "iter3"
       ]
      },
      {
       "output_type": "stream",
       "stream": "stdout",
       "text": [
        "\n",
        "[iter: 0000]: rank(P) = 0002, |C|_0 = 0157, crit=0.0931694805, total sparse =3475\n",
        "[iter: 0010]: rank(P) = 0003, |C|_0 = 2737, crit=0.0049992441, total sparse =16352\n",
        "[iter: 0020]: rank(P) = 0008, |C|_0 = 6969, crit=0.0000204846, total sparse =17184\n",
        "RPCA takes:0.141935 seconds"
       ]
      },
      {
       "output_type": "stream",
       "stream": "stdout",
       "text": [
        "\n",
        "iter4"
       ]
      },
      {
       "output_type": "stream",
       "stream": "stdout",
       "text": [
        "\n",
        "[iter: 0000]: rank(P) = 0002, |C|_0 = 0160, crit=0.0907651091, total sparse =3477\n",
        "[iter: 0010]: rank(P) = 0003, |C|_0 = 2741, crit=0.0047751530, total sparse =15846\n",
        "[iter: 0020]: rank(P) = 0008, |C|_0 = 6958, crit=0.0000168887, total sparse =16500\n",
        "RPCA takes:0.135766 seconds"
       ]
      },
      {
       "output_type": "stream",
       "stream": "stdout",
       "text": [
        "\n",
        "iter5"
       ]
      },
      {
       "output_type": "stream",
       "stream": "stdout",
       "text": [
        "\n",
        "[iter: 0000]: rank(P) = 0002, |C|_0 = 0161, crit=0.0896806166, total sparse =3475\n",
        "[iter: 0010]: rank(P) = 0003, |C|_0 = 2597, crit=0.0045994903, total sparse =15686\n",
        "[iter: 0020]: rank(P) = 0008, |C|_0 = 7046, crit=0.0000194823, total sparse =16194\n",
        "RPCA takes:0.135561 seconds"
       ]
      },
      {
       "output_type": "stream",
       "stream": "stdout",
       "text": [
        "\n",
        "max ="
       ]
      },
      {
       "output_type": "stream",
       "stream": "stdout",
       "text": [
        " 5.10711700645\n",
        "min = -1.70789639782\n",
        "total ssd =  2822.05399519\n",
        "lamda =  0.8\n",
        "iter1\n",
        "[iter: 0000]: rank(P) = 0002, |C|_0 = 0124, crit=0.1400838973, total sparse =1459\n",
        "[iter: 0010]: rank(P) = 0005, |C|_0 = 3023, crit=0.0030562655, total sparse =18727\n",
        "[iter: 0020]: rank(P) = 0008, |C|_0 = 4732, crit=0.0000360867, total sparse =19085\n",
        "RPCA takes:0.138879 seconds"
       ]
      },
      {
       "output_type": "stream",
       "stream": "stdout",
       "text": [
        "\n",
        "iter2"
       ]
      },
      {
       "output_type": "stream",
       "stream": "stdout",
       "text": [
        "\n",
        "[iter: 0000]: rank(P) = 0002, |C|_0 = 0108, crit=0.1138890401, total sparse =1321\n",
        "[iter: 0010]: rank(P) = 0004, |C|_0 = 2517, crit=0.0059965899, total sparse =15178\n",
        "[iter: 0020]: rank(P) = 0008, |C|_0 = 4861, crit=0.0000054799, total sparse =15416\n",
        "RPCA takes:0.143881 seconds"
       ]
      },
      {
       "output_type": "stream",
       "stream": "stdout",
       "text": [
        "\n",
        "iter3"
       ]
      },
      {
       "output_type": "stream",
       "stream": "stdout",
       "text": [
        "\n",
        "[iter: 0000]: rank(P) = 0002, |C|_0 = 0106, crit=0.1084132221, total sparse =1307\n",
        "[iter: 0010]: rank(P) = 0003, |C|_0 = 1935, crit=0.0055026618, total sparse =14138\n",
        "[iter: 0020]: rank(P) = 0008, |C|_0 = 5157, crit=0.0000069566, total sparse =14605\n",
        "RPCA takes:0.138749 seconds"
       ]
      },
      {
       "output_type": "stream",
       "stream": "stdout",
       "text": [
        "\n",
        "iter4"
       ]
      },
      {
       "output_type": "stream",
       "stream": "stdout",
       "text": [
        "\n",
        "[iter: 0000]: rank(P) = 0002, |C|_0 = 0105, crit=0.1075489975, total sparse =1313\n",
        "[iter: 0010]: rank(P) = 0003, |C|_0 = 1931, crit=0.0058302977, total sparse =13998\n",
        "[iter: 0020]: rank(P) = 0008, |C|_0 = 5210, crit=0.0000080009, total sparse =14382\n",
        "RPCA takes:0.140199 seconds"
       ]
      },
      {
       "output_type": "stream",
       "stream": "stdout",
       "text": [
        "\n",
        "iter5"
       ]
      },
      {
       "output_type": "stream",
       "stream": "stdout",
       "text": [
        "\n",
        "[iter: 0000]: rank(P) = 0002, |C|_0 = 0105, crit=0.1067397497, total sparse =1300\n",
        "[iter: 0010]: rank(P) = 0003, |C|_0 = 2153, crit=0.0058078157, total sparse =14049\n",
        "[iter: 0020]: rank(P) = 0008, |C|_0 = 5270, crit=0.0000079738, total sparse =14417\n",
        "RPCA takes:0.134926 seconds"
       ]
      },
      {
       "output_type": "stream",
       "stream": "stdout",
       "text": [
        "\n",
        "max ="
       ]
      },
      {
       "output_type": "stream",
       "stream": "stdout",
       "text": [
        " 5.56770690386\n",
        "min = -1.60485399354\n",
        "total ssd =  3851.51287981\n",
        "lamda =  0.9\n",
        "iter1\n",
        "[iter: 0000]: rank(P) = 0002, |C|_0 = 0013, crit=0.1531226710, total sparse =0094\n",
        "[iter: 0010]: rank(P) = 0006, |C|_0 = 2453, crit=0.0036652438, total sparse =16422\n",
        "[iter: 0020]: rank(P) = 0008, |C|_0 = 3588, crit=0.0000082289, total sparse =16829\n",
        "RPCA takes:0.138218 seconds"
       ]
      },
      {
       "output_type": "stream",
       "stream": "stdout",
       "text": [
        "\n",
        "iter2"
       ]
      },
      {
       "output_type": "stream",
       "stream": "stdout",
       "text": [
        "\n",
        "[iter: 0000]: rank(P) = 0002, |C|_0 = 0015, crit=0.1250330778, total sparse =0096\n",
        "[iter: 0010]: rank(P) = 0004, |C|_0 = 1578, crit=0.0062107981, total sparse =13437\n",
        "[iter: 0020]: rank(P) = 0008, |C|_0 = 3294, crit=0.0000031647, total sparse =13505\n",
        "RPCA takes:0.145966 seconds"
       ]
      },
      {
       "output_type": "stream",
       "stream": "stdout",
       "text": [
        "\n",
        "iter3"
       ]
      },
      {
       "output_type": "stream",
       "stream": "stdout",
       "text": [
        "\n",
        "[iter: 0000]: rank(P) = 0002, |C|_0 = 0014, crit=0.1216957856, total sparse =0090\n",
        "[iter: 0010]: rank(P) = 0003, |C|_0 = 1356, crit=0.0059186959, total sparse =12935\n",
        "[iter: 0020]: rank(P) = 0008, |C|_0 = 3495, crit=0.0000042801, total sparse =13054\n",
        "RPCA takes:0.140524 seconds"
       ]
      },
      {
       "output_type": "stream",
       "stream": "stdout",
       "text": [
        "\n",
        "iter4"
       ]
      },
      {
       "output_type": "stream",
       "stream": "stdout",
       "text": [
        "\n",
        "[iter: 0000]: rank(P) = 0002, |C|_0 = 0013, crit=0.1211232116, total sparse =0084\n",
        "[iter: 0010]: rank(P) = 0003, |C|_0 = 1313, crit=0.0051710745, total sparse =12717\n",
        "[iter: 0020]: rank(P) = 0008, |C|_0 = 3688, crit=0.0000059942, total sparse =12816\n",
        "RPCA takes:0.138555 seconds"
       ]
      },
      {
       "output_type": "stream",
       "stream": "stdout",
       "text": [
        "\n",
        "iter5"
       ]
      },
      {
       "output_type": "stream",
       "stream": "stdout",
       "text": [
        "\n",
        "[iter: 0000]: rank(P) = 0002, |C|_0 = 0012, crit=0.1210255525, total sparse =0079\n",
        "[iter: 0010]: rank(P) = 0003, |C|_0 = 1403, crit=0.0057253238, total sparse =12747\n",
        "[iter: 0020]: rank(P) = 0008, |C|_0 = 3617, crit=0.0000065186, total sparse =12835\n",
        "RPCA takes:0.138665 seconds"
       ]
      },
      {
       "output_type": "stream",
       "stream": "stdout",
       "text": [
        "\n",
        "max ="
       ]
      },
      {
       "output_type": "stream",
       "stream": "stdout",
       "text": [
        " 5.72855630733\n",
        "min = -1.47932247831\n",
        "total ssd =  4129.89413106\n",
        "lamda =  1.0\n",
        "iter1\n",
        "[iter: 0000]: rank(P) = 0002, |C|_0 = 0001, crit=0.1540437440, total sparse =0000\n",
        "[iter: 0010]: rank(P) = 0006, |C|_0 = 1992, crit=0.0042442823, total sparse =14850\n",
        "[iter: 0020]: rank(P) = 0008, |C|_0 = 2675, crit=0.0000022746, total sparse =14996\n",
        "RPCA takes:0.138978 seconds"
       ]
      },
      {
       "output_type": "stream",
       "stream": "stdout",
       "text": [
        "\n",
        "iter2"
       ]
      },
      {
       "output_type": "stream",
       "stream": "stdout",
       "text": [
        "\n",
        "[iter: 0000]: rank(P) = 0002, |C|_0 = 0000, crit=0.1225242575, total sparse =0000\n",
        "[iter: 0010]: rank(P) = 0004, |C|_0 = 1229, crit=0.0065365208, total sparse =12315\n",
        "[iter: 0020]: rank(P) = 0008, |C|_0 = 2423, crit=0.0000023065, total sparse =12261"
       ]
      },
      {
       "output_type": "stream",
       "stream": "stdout",
       "text": [
        "\n",
        "RPCA takes:0.177140 seconds"
       ]
      },
      {
       "output_type": "stream",
       "stream": "stdout",
       "text": [
        "\n",
        "iter3"
       ]
      },
      {
       "output_type": "stream",
       "stream": "stdout",
       "text": [
        "\n",
        "[iter: 0000]: rank(P) = 0002, |C|_0 = 0000, crit=0.1198824347, total sparse =0000\n",
        "[iter: 0010]: rank(P) = 0003, |C|_0 = 1135, crit=0.0060345716, total sparse =11924\n",
        "[iter: 0020]: rank(P) = 0008, |C|_0 = 2550, crit=0.0000031702, total sparse =11899\n",
        "RPCA takes:0.133784 seconds"
       ]
      },
      {
       "output_type": "stream",
       "stream": "stdout",
       "text": [
        "\n",
        "iter4"
       ]
      },
      {
       "output_type": "stream",
       "stream": "stdout",
       "text": [
        "\n",
        "[iter: 0000]: rank(P) = 0002, |C|_0 = 0000, crit=0.1196553381, total sparse =0000\n",
        "[iter: 0010]: rank(P) = 0003, |C|_0 = 1000, crit=0.0061041849, total sparse =11893\n",
        "[iter: 0020]: rank(P) = 0008, |C|_0 = 2538, crit=0.0000039125, total sparse =11775\n",
        "RPCA takes:0.138769 seconds"
       ]
      },
      {
       "output_type": "stream",
       "stream": "stdout",
       "text": [
        "\n",
        "iter5"
       ]
      },
      {
       "output_type": "stream",
       "stream": "stdout",
       "text": [
        "\n",
        "[iter: 0000]: rank(P) = 0002, |C|_0 = 0000, crit=0.1195908187, total sparse =0000\n",
        "[iter: 0010]: rank(P) = 0003, |C|_0 = 0939, crit=0.0061315404, total sparse =11874\n",
        "[iter: 0020]: rank(P) = 0008, |C|_0 = 2604, crit=0.0000045054, total sparse =11951"
       ]
      },
      {
       "output_type": "stream",
       "stream": "stdout",
       "text": [
        "\n",
        "RPCA takes:0.150027 seconds"
       ]
      },
      {
       "output_type": "stream",
       "stream": "stdout",
       "text": [
        "\n",
        "max ="
       ]
      },
      {
       "output_type": "stream",
       "stream": "stdout",
       "text": [
        " 6.08537122159\n",
        "min = -1.39695586717\n",
        "total ssd =  4598.96205354\n",
        "lamda =  1.1\n",
        "iter1\n",
        "[iter: 0000]: rank(P) = 0002, |C|_0 = 0000, crit=0.1540465764, total sparse =0000\n",
        "[iter: 0010]: rank(P) = 0007, |C|_0 = 1654, crit=0.0044373759, total sparse =13655\n",
        "[iter: 0020]: rank(P) = 0008, |C|_0 = 2014, crit=0.0000010784, total sparse =13570\n",
        "RPCA takes:0.138983 seconds"
       ]
      },
      {
       "output_type": "stream",
       "stream": "stdout",
       "text": [
        "\n",
        "iter2"
       ]
      },
      {
       "output_type": "stream",
       "stream": "stdout",
       "text": [
        "\n",
        "[iter: 0000]: rank(P) = 0002, |C|_0 = 0000, crit=0.1188119763, total sparse =0000\n",
        "[iter: 0010]: rank(P) = 0004, |C|_0 = 0935, crit=0.0067043335, total sparse =11320\n",
        "[iter: 0020]: rank(P) = 0008, |C|_0 = 1640, crit=0.0000019641, total sparse =11149\n",
        "RPCA takes:0.144241 seconds"
       ]
      },
      {
       "output_type": "stream",
       "stream": "stdout",
       "text": [
        "\n",
        "iter3"
       ]
      },
      {
       "output_type": "stream",
       "stream": "stdout",
       "text": [
        "\n",
        "[iter: 0000]: rank(P) = 0002, |C|_0 = 0000, crit=0.1181824733, total sparse =0000\n",
        "[iter: 0010]: rank(P) = 0004, |C|_0 = 0875, crit=0.0058450047, total sparse =11496\n",
        "[iter: 0020]: rank(P) = 0008, |C|_0 = 1771, crit=0.0000030322, total sparse =11139"
       ]
      },
      {
       "output_type": "stream",
       "stream": "stdout",
       "text": [
        "\n",
        "RPCA takes:0.151073 seconds"
       ]
      },
      {
       "output_type": "stream",
       "stream": "stdout",
       "text": [
        "\n",
        "iter4"
       ]
      },
      {
       "output_type": "stream",
       "stream": "stdout",
       "text": [
        "\n",
        "[iter: 0000]: rank(P) = 0002, |C|_0 = 0000, crit=0.1170669871, total sparse =0000\n",
        "[iter: 0010]: rank(P) = 0003, |C|_0 = 0811, crit=0.0057354658, total sparse =11355\n",
        "[iter: 0020]: rank(P) = 0008, |C|_0 = 1952, crit=0.0000037981, total sparse =11211\n",
        "RPCA takes:0.139653 seconds"
       ]
      },
      {
       "output_type": "stream",
       "stream": "stdout",
       "text": [
        "\n",
        "iter5"
       ]
      },
      {
       "output_type": "stream",
       "stream": "stdout",
       "text": [
        "\n",
        "[iter: 0000]: rank(P) = 0002, |C|_0 = 0000, crit=0.1174983778, total sparse =0000\n",
        "[iter: 0010]: rank(P) = 0003, |C|_0 = 0787, crit=0.0055772038, total sparse =11430\n",
        "[iter: 0020]: rank(P) = 0008, |C|_0 = 1928, crit=0.0000038816, total sparse =11295\n",
        "RPCA takes:0.139989 seconds"
       ]
      },
      {
       "output_type": "stream",
       "stream": "stdout",
       "text": [
        "\n",
        "max ="
       ]
      },
      {
       "output_type": "stream",
       "stream": "stdout",
       "text": [
        " 6.59459560375\n",
        "min = -1.45840692899\n",
        "total ssd =  4609.38667405\n",
        "lamda =  1.2\n",
        "iter1\n",
        "[iter: 0000]: rank(P) = 0002, |C|_0 = 0000, crit=0.1540465764, total sparse =0000\n",
        "[iter: 0010]: rank(P) = 0007, |C|_0 = 1417, crit=0.0044096488, total sparse =12734\n",
        "[iter: 0020]: rank(P) = 0008, |C|_0 = 1535, crit=0.0000007193, total sparse =12405\n",
        "RPCA takes:0.143980 seconds"
       ]
      },
      {
       "output_type": "stream",
       "stream": "stdout",
       "text": [
        "\n",
        "iter2"
       ]
      },
      {
       "output_type": "stream",
       "stream": "stdout",
       "text": [
        "\n",
        "[iter: 0000]: rank(P) = 0002, |C|_0 = 0000, crit=0.1153859206, total sparse =0000\n",
        "[iter: 0010]: rank(P) = 0004, |C|_0 = 0815, crit=0.0068594039, total sparse =10700\n",
        "[iter: 0020]: rank(P) = 0008, |C|_0 = 1217, crit=0.0000014962, total sparse =10371\n",
        "RPCA takes:0.139848 seconds"
       ]
      },
      {
       "output_type": "stream",
       "stream": "stdout",
       "text": [
        "\n",
        "iter3"
       ]
      },
      {
       "output_type": "stream",
       "stream": "stdout",
       "text": [
        "\n",
        "[iter: 0000]: rank(P) = 0002, |C|_0 = 0000, crit=0.1167511019, total sparse =0000\n",
        "[iter: 0010]: rank(P) = 0003, |C|_0 = 0714, crit=0.0057806179, total sparse =11107\n",
        "[iter: 0020]: rank(P) = 0008, |C|_0 = 1345, crit=0.0000025287, total sparse =10808\n",
        "RPCA takes:0.139127 seconds"
       ]
      },
      {
       "output_type": "stream",
       "stream": "stdout",
       "text": [
        "\n",
        "iter4"
       ]
      },
      {
       "output_type": "stream",
       "stream": "stdout",
       "text": [
        "\n",
        "[iter: 0000]: rank(P) = 0002, |C|_0 = 0000, crit=0.1166626292, total sparse =0000\n",
        "[iter: 0010]: rank(P) = 0003, |C|_0 = 0717, crit=0.0057462370, total sparse =11156\n",
        "[iter: 0020]: rank(P) = 0008, |C|_0 = 1315, crit=0.0000025154, total sparse =10816\n",
        "RPCA takes:0.137582 seconds"
       ]
      },
      {
       "output_type": "stream",
       "stream": "stdout",
       "text": [
        "\n",
        "iter5"
       ]
      },
      {
       "output_type": "stream",
       "stream": "stdout",
       "text": [
        "\n",
        "[iter: 0000]: rank(P) = 0002, |C|_0 = 0000, crit=0.1160920495, total sparse =0000\n",
        "[iter: 0010]: rank(P) = 0003, |C|_0 = 0696, crit=0.0059341364, total sparse =11047\n",
        "[iter: 0020]: rank(P) = 0008, |C|_0 = 1358, crit=0.0000025765, total sparse =10737\n",
        "RPCA takes:0.141813 seconds"
       ]
      },
      {
       "output_type": "stream",
       "stream": "stdout",
       "text": [
        "\n",
        "max ="
       ]
      },
      {
       "output_type": "stream",
       "stream": "stdout",
       "text": [
        " 7.02780976093\n",
        "min = -1.40432253566\n",
        "total ssd =  4660.42370492\n",
        "lamda =  1.3\n",
        "iter1\n",
        "[iter: 0000]: rank(P) = 0002, |C|_0 = 0000, crit=0.1540465764, total sparse =0000\n",
        "[iter: 0010]: rank(P) = 0008, |C|_0 = 1178, crit=0.0040699374, total sparse =11925\n",
        "[iter: 0020]: rank(P) = 0008, |C|_0 = 1062, crit=0.0000005101, total sparse =11438\n",
        "RPCA takes:0.137011 seconds"
       ]
      },
      {
       "output_type": "stream",
       "stream": "stdout",
       "text": [
        "\n",
        "iter2"
       ]
      },
      {
       "output_type": "stream",
       "stream": "stdout",
       "text": [
        "\n",
        "[iter: 0000]: rank(P) = 0002, |C|_0 = 0000, crit=0.1110466594, total sparse =0000\n",
        "[iter: 0010]: rank(P) = 0004, |C|_0 = 0692, crit=0.0065050585, total sparse =10025\n",
        "[iter: 0020]: rank(P) = 0008, |C|_0 = 0942, crit=0.0000015363, total sparse =9596\n",
        "RPCA takes:0.152216 seconds"
       ]
      },
      {
       "output_type": "stream",
       "stream": "stdout",
       "text": [
        "\n",
        "iter3"
       ]
      },
      {
       "output_type": "stream",
       "stream": "stdout",
       "text": [
        "\n",
        "[iter: 0000]: rank(P) = 0002, |C|_0 = 0000, crit=0.1143331030, total sparse =0000\n",
        "[iter: 0010]: rank(P) = 0003, |C|_0 = 0633, crit=0.0056858324, total sparse =10604\n",
        "[iter: 0020]: rank(P) = 0008, |C|_0 = 0969, crit=0.0000020846, total sparse =10316"
       ]
      },
      {
       "output_type": "stream",
       "stream": "stdout",
       "text": [
        "\n",
        "RPCA takes:0.183993 seconds"
       ]
      },
      {
       "output_type": "stream",
       "stream": "stdout",
       "text": [
        "\n",
        "iter4"
       ]
      },
      {
       "output_type": "stream",
       "stream": "stdout",
       "text": [
        "\n",
        "[iter: 0000]: rank(P) = 0002, |C|_0 = 0000, crit=0.1143859790, total sparse =0000\n",
        "[iter: 0010]: rank(P) = 0003, |C|_0 = 0656, crit=0.0054827830, total sparse =10702\n",
        "[iter: 0020]: rank(P) = 0008, |C|_0 = 1042, crit=0.0000024135, total sparse =10354"
       ]
      },
      {
       "output_type": "stream",
       "stream": "stdout",
       "text": [
        "\n",
        "RPCA takes:0.150596 seconds"
       ]
      },
      {
       "output_type": "stream",
       "stream": "stdout",
       "text": [
        "\n",
        "iter5"
       ]
      },
      {
       "output_type": "stream",
       "stream": "stdout",
       "text": [
        "\n",
        "[iter: 0000]: rank(P) = 0002, |C|_0 = 0000, crit=0.1136747562, total sparse =0000\n",
        "[iter: 0010]: rank(P) = 0003, |C|_0 = 0633, crit=0.0056270208, total sparse =10631\n",
        "[iter: 0020]: rank(P) = 0008, |C|_0 = 1051, crit=0.0000024974, total sparse =10282\n",
        "RPCA takes:0.140499 seconds"
       ]
      },
      {
       "output_type": "stream",
       "stream": "stdout",
       "text": [
        "\n",
        "max ="
       ]
      },
      {
       "output_type": "stream",
       "stream": "stdout",
       "text": [
        " 7.4355805147\n",
        "min = -1.41428372546\n",
        "total ssd =  4737.46282526\n",
        "lamda =  1.4\n",
        "iter1\n",
        "[iter: 0000]: rank(P) = 0002, |C|_0 = 0000, crit=0.1540465764, total sparse =0000\n",
        "[iter: 0010]: rank(P) = 0008, |C|_0 = 0920, crit=0.0038636487, total sparse =10992\n",
        "[iter: 0020]: rank(P) = 0008, |C|_0 = 0802, crit=0.0000004289, total sparse =10540"
       ]
      },
      {
       "output_type": "stream",
       "stream": "stdout",
       "text": [
        "\n",
        "RPCA takes:0.191060 seconds"
       ]
      },
      {
       "output_type": "stream",
       "stream": "stdout",
       "text": [
        "\n",
        "iter2"
       ]
      },
      {
       "output_type": "stream",
       "stream": "stdout",
       "text": [
        "\n",
        "[iter: 0000]: rank(P) = 0002, |C|_0 = 0000, crit=0.1024448017, total sparse =0000\n",
        "[iter: 0010]: rank(P) = 0004, |C|_0 = 0577, crit=0.0062116960, total sparse =8786\n",
        "[iter: 0020]: rank(P) = 0008, |C|_0 = 0808, crit=0.0000016887, total sparse =8379\n",
        "RPCA takes:0.148405 seconds"
       ]
      },
      {
       "output_type": "stream",
       "stream": "stdout",
       "text": [
        "\n",
        "iter3"
       ]
      },
      {
       "output_type": "stream",
       "stream": "stdout",
       "text": [
        "\n",
        "[iter: 0000]: rank(P) = 0002, |C|_0 = 0000, crit=0.1094430639, total sparse =0000\n",
        "[iter: 0010]: rank(P) = 0004, |C|_0 = 0604, crit=0.0060709315, total sparse =9841\n",
        "[iter: 0020]: rank(P) = 0008, |C|_0 = 0797, crit=0.0000015996, total sparse =9452\n",
        "RPCA takes:0.149320 seconds"
       ]
      },
      {
       "output_type": "stream",
       "stream": "stdout",
       "text": [
        "\n",
        "iter4"
       ]
      },
      {
       "output_type": "stream",
       "stream": "stdout",
       "text": [
        "\n",
        "[iter: 0000]: rank(P) = 0002, |C|_0 = 0000, crit=0.1099553998, total sparse =0000\n",
        "[iter: 0010]: rank(P) = 0004, |C|_0 = 0596, crit=0.0051682834, total sparse =9906\n",
        "[iter: 0020]: rank(P) = 0008, |C|_0 = 0806, crit=0.0000020985, total sparse =9584\n",
        "RPCA takes:0.141094 seconds"
       ]
      },
      {
       "output_type": "stream",
       "stream": "stdout",
       "text": [
        "\n",
        "iter5"
       ]
      },
      {
       "output_type": "stream",
       "stream": "stdout",
       "text": [
        "\n",
        "[iter: 0000]: rank(P) = 0002, |C|_0 = 0000, crit=0.1096449753, total sparse =0000\n",
        "[iter: 0010]: rank(P) = 0004, |C|_0 = 0582, crit=0.0052456681, total sparse =9869\n",
        "[iter: 0020]: rank(P) = 0008, |C|_0 = 0816, crit=0.0000023157, total sparse =9534\n",
        "RPCA takes:0.148331 seconds"
       ]
      },
      {
       "output_type": "stream",
       "stream": "stdout",
       "text": [
        "\n",
        "max ="
       ]
      },
      {
       "output_type": "stream",
       "stream": "stdout",
       "text": [
        " 8.04402572985\n",
        "min = -1.41177606392\n",
        "total ssd =  5108.27317625\n",
        "lamda =  1.5\n",
        "iter1\n",
        "[iter: 0000]: rank(P) = 0002, |C|_0 = 0000, crit=0.1540465764, total sparse =0000\n",
        "[iter: 0010]: rank(P) = 0008, |C|_0 = 0718, crit=0.0038880788, total sparse =9909\n",
        "[iter: 0020]: rank(P) = 0008, |C|_0 = 0629, crit=0.0000003909, total sparse =9491\n",
        "RPCA takes:0.143699 seconds"
       ]
      },
      {
       "output_type": "stream",
       "stream": "stdout",
       "text": [
        "\n",
        "iter2"
       ]
      },
      {
       "output_type": "stream",
       "stream": "stdout",
       "text": [
        "\n",
        "[iter: 0000]: rank(P) = 0002, |C|_0 = 0000, crit=0.0929397700, total sparse =0000\n",
        "[iter: 0010]: rank(P) = 0004, |C|_0 = 0551, crit=0.0056597109, total sparse =7492\n",
        "[iter: 0020]: rank(P) = 0008, |C|_0 = 0683, crit=0.0000015760, total sparse =7107\n",
        "RPCA takes:0.146893 seconds"
       ]
      },
      {
       "output_type": "stream",
       "stream": "stdout",
       "text": [
        "\n",
        "iter3"
       ]
      },
      {
       "output_type": "stream",
       "stream": "stdout",
       "text": [
        "\n",
        "[iter: 0000]: rank(P) = 0002, |C|_0 = 0000, crit=0.1003168898, total sparse =0000\n",
        "[iter: 0010]: rank(P) = 0004, |C|_0 = 0557, crit=0.0054467944, total sparse =8584\n",
        "[iter: 0020]: rank(P) = 0008, |C|_0 = 0704, crit=0.0000017247, total sparse =8226\n",
        "RPCA takes:0.148122 seconds"
       ]
      },
      {
       "output_type": "stream",
       "stream": "stdout",
       "text": [
        "\n",
        "iter4"
       ]
      },
      {
       "output_type": "stream",
       "stream": "stdout",
       "text": [
        "\n",
        "[iter: 0000]: rank(P) = 0002, |C|_0 = 0000, crit=0.1013741437, total sparse =0000\n",
        "[iter: 0010]: rank(P) = 0004, |C|_0 = 0558, crit=0.0051284320, total sparse =8704\n",
        "[iter: 0020]: rank(P) = 0008, |C|_0 = 0722, crit=0.0000020203, total sparse =8361\n",
        "RPCA takes:0.152844 seconds"
       ]
      },
      {
       "output_type": "stream",
       "stream": "stdout",
       "text": [
        "\n",
        "iter5"
       ]
      },
      {
       "output_type": "stream",
       "stream": "stdout",
       "text": [
        "\n",
        "[iter: 0000]: rank(P) = 0002, |C|_0 = 0000, crit=0.1016232898, total sparse =0000\n",
        "[iter: 0010]: rank(P) = 0004, |C|_0 = 0558, crit=0.0050577146, total sparse =8772\n",
        "[iter: 0020]: rank(P) = 0008, |C|_0 = 0749, crit=0.0000021175, total sparse =8413\n",
        "RPCA takes:0.147521 seconds"
       ]
      },
      {
       "output_type": "stream",
       "stream": "stdout",
       "text": [
        "\n",
        "max ="
       ]
      },
      {
       "output_type": "stream",
       "stream": "stdout",
       "text": [
        " 8.93654254953\n",
        "min = -1.45015763962\n",
        "total ssd =  5443.41074058\n",
        "lamda =  1.6\n",
        "iter1\n",
        "[iter: 0000]: rank(P) = 0002, |C|_0 = 0000, crit=0.1540465764, total sparse =0000\n",
        "[iter: 0010]: rank(P) = 0007, |C|_0 = 0516, crit=0.0038746577, total sparse =8719\n",
        "[iter: 0020]: rank(P) = 0008, |C|_0 = 0495, crit=0.0000003439, total sparse =8338\n",
        "RPCA takes:0.148275 seconds"
       ]
      },
      {
       "output_type": "stream",
       "stream": "stdout",
       "text": [
        "\n",
        "iter2"
       ]
      },
      {
       "output_type": "stream",
       "stream": "stdout",
       "text": [
        "\n",
        "[iter: 0000]: rank(P) = 0002, |C|_0 = 0000, crit=0.0877073286, total sparse =0000\n",
        "[iter: 0010]: rank(P) = 0004, |C|_0 = 0431, crit=0.0061743995, total sparse =6342\n",
        "[iter: 0020]: rank(P) = 0008, |C|_0 = 0576, crit=0.0000016585, total sparse =6104\n",
        "RPCA takes:0.155185 seconds"
       ]
      },
      {
       "output_type": "stream",
       "stream": "stdout",
       "text": [
        "\n",
        "iter3"
       ]
      },
      {
       "output_type": "stream",
       "stream": "stdout",
       "text": [
        "\n",
        "[iter: 0000]: rank(P) = 0002, |C|_0 = 0000, crit=0.0860042760, total sparse =0000\n",
        "[iter: 0010]: rank(P) = 0004, |C|_0 = 0531, crit=0.0058900310, total sparse =6601\n",
        "[iter: 0020]: rank(P) = 0008, |C|_0 = 0556, crit=0.0000014644, total sparse =6242\n",
        "RPCA takes:0.145962 seconds"
       ]
      },
      {
       "output_type": "stream",
       "stream": "stdout",
       "text": [
        "\n",
        "iter4"
       ]
      },
      {
       "output_type": "stream",
       "stream": "stdout",
       "text": [
        "\n",
        "[iter: 0000]: rank(P) = 0002, |C|_0 = 0000, crit=0.0855812888, total sparse =0000\n",
        "[iter: 0010]: rank(P) = 0004, |C|_0 = 0529, crit=0.0054917142, total sparse =6662\n",
        "[iter: 0020]: rank(P) = 0008, |C|_0 = 0608, crit=0.0000021850, total sparse =6325\n",
        "RPCA takes:0.148429 seconds"
       ]
      },
      {
       "output_type": "stream",
       "stream": "stdout",
       "text": [
        "\n",
        "iter5"
       ]
      },
      {
       "output_type": "stream",
       "stream": "stdout",
       "text": [
        "\n",
        "[iter: 0000]: rank(P) = 0002, |C|_0 = 0000, crit=0.0854777475, total sparse =0000\n",
        "[iter: 0010]: rank(P) = 0004, |C|_0 = 0511, crit=0.0050362039, total sparse =6662\n",
        "[iter: 0020]: rank(P) = 0008, |C|_0 = 0591, crit=0.0000020504, total sparse =6353\n",
        "RPCA takes:0.147262 seconds"
       ]
      },
      {
       "output_type": "stream",
       "stream": "stdout",
       "text": [
        "\n",
        "max ="
       ]
      },
      {
       "output_type": "stream",
       "stream": "stdout",
       "text": [
        " 11.8188927523\n",
        "min = -1.04473495234\n",
        "total ssd =  7354.52571702\n",
        "lamda =  1.7\n",
        "iter1\n",
        "[iter: 0000]: rank(P) = 0002, |C|_0 = 0000, crit=0.1540465764, total sparse =0000\n",
        "[iter: 0010]: rank(P) = 0007, |C|_0 = 0421, crit=0.0038610572, total sparse =7662\n",
        "[iter: 0020]: rank(P) = 0008, |C|_0 = 0388, crit=0.0000003096, total sparse =7322\n",
        "RPCA takes:0.146888 seconds"
       ]
      },
      {
       "output_type": "stream",
       "stream": "stdout",
       "text": [
        "\n",
        "iter2"
       ]
      },
      {
       "output_type": "stream",
       "stream": "stdout",
       "text": [
        "\n",
        "[iter: 0000]: rank(P) = 0002, |C|_0 = 0000, crit=0.0870124750, total sparse =0000\n",
        "[iter: 0010]: rank(P) = 0005, |C|_0 = 0411, crit=0.0054340518, total sparse =5556\n",
        "[iter: 0020]: rank(P) = 0008, |C|_0 = 0493, crit=0.0000015800, total sparse =5300"
       ]
      },
      {
       "output_type": "stream",
       "stream": "stdout",
       "text": [
        "\n",
        "RPCA takes:0.165897 seconds"
       ]
      },
      {
       "output_type": "stream",
       "stream": "stdout",
       "text": [
        "\n",
        "iter3"
       ]
      },
      {
       "output_type": "stream",
       "stream": "stdout",
       "text": [
        "\n",
        "[iter: 0000]: rank(P) = 0002, |C|_0 = 0000, crit=0.0813415672, total sparse =0000\n",
        "[iter: 0010]: rank(P) = 0004, |C|_0 = 0448, crit=0.0058432396, total sparse =5772\n",
        "[iter: 0020]: rank(P) = 0008, |C|_0 = 0498, crit=0.0000015509, total sparse =5490\n",
        "RPCA takes:0.146416 seconds"
       ]
      },
      {
       "output_type": "stream",
       "stream": "stdout",
       "text": [
        "\n",
        "iter4"
       ]
      },
      {
       "output_type": "stream",
       "stream": "stdout",
       "text": [
        "\n",
        "[iter: 0000]: rank(P) = 0002, |C|_0 = 0000, crit=0.0812553047, total sparse =0000\n",
        "[iter: 0010]: rank(P) = 0004, |C|_0 = 0427, crit=0.0057215943, total sparse =5935\n",
        "[iter: 0020]: rank(P) = 0008, |C|_0 = 0519, crit=0.0000014651, total sparse =5626"
       ]
      },
      {
       "output_type": "stream",
       "stream": "stdout",
       "text": [
        "\n",
        "RPCA takes:0.159630 seconds"
       ]
      },
      {
       "output_type": "stream",
       "stream": "stdout",
       "text": [
        "\n",
        "iter5"
       ]
      },
      {
       "output_type": "stream",
       "stream": "stdout",
       "text": [
        "\n",
        "[iter: 0000]: rank(P) = 0002, |C|_0 = 0000, crit=0.0814342416, total sparse =0000\n",
        "[iter: 0010]: rank(P) = 0004, |C|_0 = 0425, crit=0.0054957908, total sparse =6051\n",
        "[iter: 0020]: rank(P) = 0008, |C|_0 = 0538, crit=0.0000016933, total sparse =5764\n",
        "RPCA takes:0.154973 seconds"
       ]
      },
      {
       "output_type": "stream",
       "stream": "stdout",
       "text": [
        "\n",
        "max ="
       ]
      },
      {
       "output_type": "stream",
       "stream": "stdout",
       "text": [
        " 14.4160914139\n",
        "min = -0.564108846723\n",
        "total ssd =  10262.8244616\n",
        "lamda =  1.8\n",
        "iter1\n",
        "[iter: 0000]: rank(P) = 0002, |C|_0 = 0000, crit=0.1540465764, total sparse =0000\n",
        "[iter: 0010]: rank(P) = 0007, |C|_0 = 0360, crit=0.0038164393, total sparse =6556\n",
        "[iter: 0020]: rank(P) = 0008, |C|_0 = 0357, crit=0.0000002795, total sparse =6236\n",
        "RPCA takes:0.152074 seconds"
       ]
      },
      {
       "output_type": "stream",
       "stream": "stdout",
       "text": [
        "\n",
        "iter2"
       ]
      },
      {
       "output_type": "stream",
       "stream": "stdout",
       "text": [
        "\n",
        "[iter: 0000]: rank(P) = 0002, |C|_0 = 0000, crit=0.0914906953, total sparse =0000\n",
        "[iter: 0010]: rank(P) = 0005, |C|_0 = 0412, crit=0.0052540180, total sparse =5288\n",
        "[iter: 0020]: rank(P) = 0008, |C|_0 = 0457, crit=0.0000014159, total sparse =4955\n",
        "RPCA takes:0.153254 seconds"
       ]
      },
      {
       "output_type": "stream",
       "stream": "stdout",
       "text": [
        "\n",
        "iter3"
       ]
      },
      {
       "output_type": "stream",
       "stream": "stdout",
       "text": [
        "\n",
        "[iter: 0000]: rank(P) = 0002, |C|_0 = 0000, crit=0.0786506557, total sparse =0000\n",
        "[iter: 0010]: rank(P) = 0005, |C|_0 = 0366, crit=0.0058809604, total sparse =5352\n",
        "[iter: 0020]: rank(P) = 0008, |C|_0 = 0413, crit=0.0000012464, total sparse =5047"
       ]
      },
      {
       "output_type": "stream",
       "stream": "stdout",
       "text": [
        "\n",
        "RPCA takes:0.174617 seconds"
       ]
      },
      {
       "output_type": "stream",
       "stream": "stdout",
       "text": [
        "\n",
        "iter4"
       ]
      },
      {
       "output_type": "stream",
       "stream": "stdout",
       "text": [
        "\n",
        "[iter: 0000]: rank(P) = 0002, |C|_0 = 0000, crit=0.0752713758, total sparse =0000\n",
        "[iter: 0010]: rank(P) = 0004, |C|_0 = 0396, crit=0.0055401292, total sparse =5251\n",
        "[iter: 0020]: rank(P) = 0008, |C|_0 = 0449, crit=0.0000014961, total sparse =4956\n",
        "RPCA takes:0.150127 seconds"
       ]
      },
      {
       "output_type": "stream",
       "stream": "stdout",
       "text": [
        "\n",
        "iter5"
       ]
      },
      {
       "output_type": "stream",
       "stream": "stdout",
       "text": [
        "\n",
        "[iter: 0000]: rank(P) = 0002, |C|_0 = 0000, crit=0.0759359648, total sparse =0000\n",
        "[iter: 0010]: rank(P) = 0004, |C|_0 = 0400, crit=0.0052620761, total sparse =5361\n",
        "[iter: 0020]: rank(P) = 0008, |C|_0 = 0488, crit=0.0000017812, total sparse =5100"
       ]
      },
      {
       "output_type": "stream",
       "stream": "stdout",
       "text": [
        "\n",
        "RPCA takes:0.160928 seconds"
       ]
      },
      {
       "output_type": "stream",
       "stream": "stdout",
       "text": [
        "\n",
        "max ="
       ]
      },
      {
       "output_type": "stream",
       "stream": "stdout",
       "text": [
        " 16.7179360551\n",
        "min = -0.307969569133\n",
        "total ssd =  14441.0811369\n",
        "lamda =  1.9\n",
        "iter1\n",
        "[iter: 0000]: rank(P) = 0002, |C|_0 = 0000, crit=0.1540465764, total sparse =0000\n",
        "[iter: 0010]: rank(P) = 0007, |C|_0 = 0330, crit=0.0037838889, total sparse =5396\n",
        "[iter: 0020]: rank(P) = 0008, |C|_0 = 0331, crit=0.0000002571, total sparse =5102\n",
        "RPCA takes:0.155615 seconds"
       ]
      },
      {
       "output_type": "stream",
       "stream": "stdout",
       "text": [
        "\n",
        "iter2"
       ]
      },
      {
       "output_type": "stream",
       "stream": "stdout",
       "text": [
        "\n",
        "[iter: 0000]: rank(P) = 0002, |C|_0 = 0000, crit=0.0977410040, total sparse =0000\n",
        "[iter: 0010]: rank(P) = 0006, |C|_0 = 0316, crit=0.0056032884, total sparse =4395\n",
        "[iter: 0020]: rank(P) = 0008, |C|_0 = 0352, crit=0.0000010076, total sparse =4063\n",
        "RPCA takes:0.153030 seconds"
       ]
      },
      {
       "output_type": "stream",
       "stream": "stdout",
       "text": [
        "\n",
        "iter3"
       ]
      },
      {
       "output_type": "stream",
       "stream": "stdout",
       "text": [
        "\n",
        "[iter: 0000]: rank(P) = 0002, |C|_0 = 0000, crit=0.0816770270, total sparse =0000\n",
        "[iter: 0010]: rank(P) = 0006, |C|_0 = 0333, crit=0.0051173333, total sparse =4077\n",
        "[iter: 0020]: rank(P) = 0008, |C|_0 = 0357, crit=0.0000012831, total sparse =3745\n",
        "RPCA takes:0.152158 seconds"
       ]
      },
      {
       "output_type": "stream",
       "stream": "stdout",
       "text": [
        "\n",
        "iter4"
       ]
      },
      {
       "output_type": "stream",
       "stream": "stdout",
       "text": [
        "\n",
        "[iter: 0000]: rank(P) = 0002, |C|_0 = 0000, crit=0.0738807064, total sparse =0000\n",
        "[iter: 0010]: rank(P) = 0005, |C|_0 = 0310, crit=0.0052891484, total sparse =4088\n",
        "[iter: 0020]: rank(P) = 0008, |C|_0 = 0353, crit=0.0000013876, total sparse =3803\n",
        "RPCA takes:0.152626 seconds"
       ]
      },
      {
       "output_type": "stream",
       "stream": "stdout",
       "text": [
        "\n",
        "iter5"
       ]
      },
      {
       "output_type": "stream",
       "stream": "stdout",
       "text": [
        "\n",
        "[iter: 0000]: rank(P) = 0002, |C|_0 = 0000, crit=0.0693841522, total sparse =0000\n",
        "[iter: 0010]: rank(P) = 0005, |C|_0 = 0315, crit=0.0050092241, total sparse =4143\n",
        "[iter: 0020]: rank(P) = 0008, |C|_0 = 0375, crit=0.0000016382, total sparse =3907\n",
        "RPCA takes:0.167904 seconds"
       ]
      },
      {
       "output_type": "stream",
       "stream": "stdout",
       "text": [
        "\n",
        "max ="
       ]
      },
      {
       "output_type": "stream",
       "stream": "stdout",
       "text": [
        " 20.7121850692\n",
        "min = -0.0573219206783\n",
        "total ssd =  43753.0405964\n",
        "lamda =  2.0\n",
        "iter1\n",
        "[iter: 0000]: rank(P) = 0002, |C|_0 = 0000, crit=0.1540465764, total sparse =0000\n",
        "[iter: 0010]: rank(P) = 0008, |C|_0 = 0302, crit=0.0037934454, total sparse =4535\n",
        "[iter: 0020]: rank(P) = 0008, |C|_0 = 0296, crit=0.0000002248, total sparse =4279"
       ]
      },
      {
       "output_type": "stream",
       "stream": "stdout",
       "text": [
        "\n",
        "RPCA takes:0.206401 seconds"
       ]
      },
      {
       "output_type": "stream",
       "stream": "stdout",
       "text": [
        "\n",
        "iter2"
       ]
      },
      {
       "output_type": "stream",
       "stream": "stdout",
       "text": [
        "\n",
        "[iter: 0000]: rank(P) = 0002, |C|_0 = 0000, crit=0.1016644090, total sparse =0000\n",
        "[iter: 0010]: rank(P) = 0006, |C|_0 = 0260, crit=0.0057243511, total sparse =3543\n",
        "[iter: 0020]: rank(P) = 0008, |C|_0 = 0280, crit=0.0000008180, total sparse =3211"
       ]
      },
      {
       "output_type": "stream",
       "stream": "stdout",
       "text": [
        "\n",
        "RPCA takes:0.182047 seconds"
       ]
      },
      {
       "output_type": "stream",
       "stream": "stdout",
       "text": [
        "\n",
        "iter3"
       ]
      },
      {
       "output_type": "stream",
       "stream": "stdout",
       "text": [
        "\n",
        "[iter: 0000]: rank(P) = 0002, |C|_0 = 0000, crit=0.0942515195, total sparse =0000\n",
        "[iter: 0010]: rank(P) = 0006, |C|_0 = 0250, crit=0.0051360207, total sparse =3389\n",
        "[iter: 0020]: rank(P) = 0008, |C|_0 = 0283, crit=0.0000010387, total sparse =3159"
       ]
      },
      {
       "output_type": "stream",
       "stream": "stdout",
       "text": [
        "\n",
        "RPCA takes:0.184538 seconds"
       ]
      },
      {
       "output_type": "stream",
       "stream": "stdout",
       "text": [
        "\n",
        "iter4"
       ]
      },
      {
       "output_type": "stream",
       "stream": "stdout",
       "text": [
        "\n",
        "[iter: 0000]: rank(P) = 0002, |C|_0 = 0000, crit=0.0900097714, total sparse =0000\n",
        "[iter: 0010]: rank(P) = 0006, |C|_0 = 0291, crit=0.0052490813, total sparse =3507\n",
        "[iter: 0020]: rank(P) = 0008, |C|_0 = 0310, crit=0.0000012288, total sparse =3202"
       ]
      },
      {
       "output_type": "stream",
       "stream": "stdout",
       "text": [
        "\n",
        "RPCA takes:0.201194 seconds"
       ]
      },
      {
       "output_type": "stream",
       "stream": "stdout",
       "text": [
        "\n",
        "iter5"
       ]
      },
      {
       "output_type": "stream",
       "stream": "stdout",
       "text": [
        "\n",
        "[iter: 0000]: rank(P) = 0002, |C|_0 = 0000, crit=0.0906980992, total sparse =0000\n",
        "[iter: 0010]: rank(P) = 0006, |C|_0 = 0269, crit=0.0053825806, total sparse =3535\n",
        "[iter: 0020]: rank(P) = 0008, |C|_0 = 0297, crit=0.0000009866, total sparse =3211\n",
        "RPCA takes:0.154199 seconds"
       ]
      },
      {
       "output_type": "stream",
       "stream": "stdout",
       "text": [
        "\n",
        "max ="
       ]
      },
      {
       "output_type": "stream",
       "stream": "stdout",
       "text": [
        " 23.5767318975\n",
        "min = -0.0119454975142\n",
        "total ssd =  88986.9277263\n",
        "lamda =  2.1\n",
        "iter1\n",
        "[iter: 0000]: rank(P) = 0002, |C|_0 = 0000, crit=0.1540465764, total sparse =0000\n",
        "[iter: 0010]: rank(P) = 0007, |C|_0 = 0273, crit=0.0038405316, total sparse =3771\n",
        "[iter: 0020]: rank(P) = 0008, |C|_0 = 0270, crit=0.0000001968, total sparse =3549\n",
        "RPCA takes:0.158665 seconds"
       ]
      },
      {
       "output_type": "stream",
       "stream": "stdout",
       "text": [
        "\n",
        "iter2"
       ]
      },
      {
       "output_type": "stream",
       "stream": "stdout",
       "text": [
        "\n",
        "[iter: 0000]: rank(P) = 0002, |C|_0 = 0000, crit=0.1071387134, total sparse =0000\n",
        "[iter: 0010]: rank(P) = 0007, |C|_0 = 0243, crit=0.0056207910, total sparse =3096\n",
        "[iter: 0020]: rank(P) = 0008, |C|_0 = 0249, crit=0.0000007248, total sparse =2761\n",
        "RPCA takes:0.156079 seconds"
       ]
      },
      {
       "output_type": "stream",
       "stream": "stdout",
       "text": [
        "\n",
        "iter3"
       ]
      },
      {
       "output_type": "stream",
       "stream": "stdout",
       "text": [
        "\n",
        "[iter: 0000]: rank(P) = 0002, |C|_0 = 0000, crit=0.1005489684, total sparse =0000\n",
        "[iter: 0010]: rank(P) = 0006, |C|_0 = 0241, crit=0.0052191046, total sparse =3011\n",
        "[iter: 0020]: rank(P) = 0008, |C|_0 = 0248, crit=0.0000008336, total sparse =2793\n",
        "RPCA takes:0.156343 seconds"
       ]
      },
      {
       "output_type": "stream",
       "stream": "stdout",
       "text": [
        "\n",
        "iter4"
       ]
      },
      {
       "output_type": "stream",
       "stream": "stdout",
       "text": [
        "\n",
        "[iter: 0000]: rank(P) = 0002, |C|_0 = 0000, crit=0.0985057568, total sparse =0000\n",
        "[iter: 0010]: rank(P) = 0006, |C|_0 = 0186, crit=0.0048400521, total sparse =2652\n",
        "[iter: 0020]: rank(P) = 0008, |C|_0 = 0201, crit=0.0000008806, total sparse =2437\n",
        "RPCA takes:0.153896 seconds"
       ]
      },
      {
       "output_type": "stream",
       "stream": "stdout",
       "text": [
        "\n",
        "iter5"
       ]
      },
      {
       "output_type": "stream",
       "stream": "stdout",
       "text": [
        "\n",
        "[iter: 0000]: rank(P) = 0002, |C|_0 = 0000, crit=0.1006486566, total sparse =0000\n",
        "[iter: 0010]: rank(P) = 0006, |C|_0 = 0180, crit=0.0051403490, total sparse =2576\n",
        "[iter: 0020]: rank(P) = 0008, |C|_0 = 0192, crit=0.0000008698, total sparse =2267\n",
        "RPCA takes:0.152514 seconds"
       ]
      },
      {
       "output_type": "stream",
       "stream": "stdout",
       "text": [
        "\n",
        "max ="
       ]
      },
      {
       "output_type": "stream",
       "stream": "stdout",
       "text": [
        " 26.7463512427\n",
        "min = -0.012570066683\n",
        "total ssd =  174260.75821\n",
        "lamda =  2.2\n",
        "iter1\n",
        "[iter: 0000]: rank(P) = 0002, |C|_0 = 0000, crit=0.1540465764, total sparse =0000\n",
        "[iter: 0010]: rank(P) = 0007, |C|_0 = 0222, crit=0.0038803603, total sparse =3212\n",
        "[iter: 0020]: rank(P) = 0008, |C|_0 = 0207, crit=0.0000001753, total sparse =3059\n",
        "RPCA takes:0.151031 seconds"
       ]
      },
      {
       "output_type": "stream",
       "stream": "stdout",
       "text": [
        "\n",
        "iter2"
       ]
      },
      {
       "output_type": "stream",
       "stream": "stdout",
       "text": [
        "\n",
        "[iter: 0000]: rank(P) = 0002, |C|_0 = 0000, crit=0.1099900294, total sparse =0000\n",
        "[iter: 0010]: rank(P) = 0007, |C|_0 = 0229, crit=0.0049361119, total sparse =2761\n",
        "[iter: 0020]: rank(P) = 0008, |C|_0 = 0210, crit=0.0000006259, total sparse =2408\n",
        "RPCA takes:0.158372 seconds"
       ]
      },
      {
       "output_type": "stream",
       "stream": "stdout",
       "text": [
        "\n",
        "iter3"
       ]
      },
      {
       "output_type": "stream",
       "stream": "stdout",
       "text": [
        "\n",
        "[iter: 0000]: rank(P) = 0002, |C|_0 = 0000, crit=0.1024492100, total sparse =0000\n",
        "[iter: 0010]: rank(P) = 0007, |C|_0 = 0206, crit=0.0052060164, total sparse =2803\n",
        "[iter: 0020]: rank(P) = 0008, |C|_0 = 0218, crit=0.0000007087, total sparse =2565\n",
        "RPCA takes:0.156773 seconds"
       ]
      },
      {
       "output_type": "stream",
       "stream": "stdout",
       "text": [
        "\n",
        "iter4"
       ]
      },
      {
       "output_type": "stream",
       "stream": "stdout",
       "text": [
        "\n",
        "[iter: 0000]: rank(P) = 0002, |C|_0 = 0000, crit=0.0982148674, total sparse =0000\n",
        "[iter: 0010]: rank(P) = 0007, |C|_0 = 0172, crit=0.0045456011, total sparse =2435\n",
        "[iter: 0020]: rank(P) = 0008, |C|_0 = 0182, crit=0.0000008310, total sparse =2234\n",
        "RPCA takes:0.153215 seconds"
       ]
      },
      {
       "output_type": "stream",
       "stream": "stdout",
       "text": [
        "\n",
        "iter5"
       ]
      },
      {
       "output_type": "stream",
       "stream": "stdout",
       "text": [
        "\n",
        "[iter: 0000]: rank(P) = 0002, |C|_0 = 0000, crit=0.0962804897, total sparse =0000\n",
        "[iter: 0010]: rank(P) = 0007, |C|_0 = 0169, crit=0.0045533548, total sparse =2313\n",
        "[iter: 0020]: rank(P) = 0008, |C|_0 = 0173, crit=0.0000008675, total sparse =2048\n",
        "RPCA takes:0.153528 seconds"
       ]
      },
      {
       "output_type": "stream",
       "stream": "stdout",
       "text": [
        "\n",
        "max ="
       ]
      },
      {
       "output_type": "stream",
       "stream": "stdout",
       "text": [
        " 25.558396773\n",
        "min = -0.0131314697885\n",
        "total ssd =  189011.459202\n",
        "lamda =  2.3\n",
        "iter1\n",
        "[iter: 0000]: rank(P) = 0002, |C|_0 = 0000, crit=0.1540465764, total sparse =0000\n",
        "[iter: 0010]: rank(P) = 0008, |C|_0 = 0190, crit=0.0039312451, total sparse =2913\n",
        "[iter: 0020]: rank(P) = 0008, |C|_0 = 0198, crit=0.0000001606, total sparse =2774\n",
        "RPCA takes:0.158204 seconds"
       ]
      },
      {
       "output_type": "stream",
       "stream": "stdout",
       "text": [
        "\n",
        "iter2"
       ]
      },
      {
       "output_type": "stream",
       "stream": "stdout",
       "text": [
        "\n",
        "[iter: 0000]: rank(P) = 0002, |C|_0 = 0000, crit=0.1088896866, total sparse =0000\n",
        "[iter: 0010]: rank(P) = 0008, |C|_0 = 0217, crit=0.0049964486, total sparse =2414\n",
        "[iter: 0020]: rank(P) = 0008, |C|_0 = 0189, crit=0.0000005861, total sparse =2067\n",
        "RPCA takes:0.159184 seconds"
       ]
      },
      {
       "output_type": "stream",
       "stream": "stdout",
       "text": [
        "\n",
        "iter3"
       ]
      },
      {
       "output_type": "stream",
       "stream": "stdout",
       "text": [
        "\n",
        "[iter: 0000]: rank(P) = 0002, |C|_0 = 0000, crit=0.1026673347, total sparse =0000\n",
        "[iter: 0010]: rank(P) = 0007, |C|_0 = 0183, crit=0.0051412043, total sparse =2621\n",
        "[iter: 0020]: rank(P) = 0008, |C|_0 = 0188, crit=0.0000006810, total sparse =2382\n",
        "RPCA takes:0.159276 seconds"
       ]
      },
      {
       "output_type": "stream",
       "stream": "stdout",
       "text": [
        "\n",
        "iter4"
       ]
      },
      {
       "output_type": "stream",
       "stream": "stdout",
       "text": [
        "\n",
        "[iter: 0000]: rank(P) = 0002, |C|_0 = 0000, crit=0.0981217277, total sparse =0000\n",
        "[iter: 0010]: rank(P) = 0007, |C|_0 = 0154, crit=0.0046027351, total sparse =2296\n",
        "[iter: 0020]: rank(P) = 0008, |C|_0 = 0161, crit=0.0000007708, total sparse =2081\n",
        "RPCA takes:0.155711 seconds"
       ]
      },
      {
       "output_type": "stream",
       "stream": "stdout",
       "text": [
        "\n",
        "iter5"
       ]
      },
      {
       "output_type": "stream",
       "stream": "stdout",
       "text": [
        "\n",
        "[iter: 0000]: rank(P) = 0002, |C|_0 = 0000, crit=0.0956021486, total sparse =0000\n",
        "[iter: 0010]: rank(P) = 0007, |C|_0 = 0157, crit=0.0045576684, total sparse =2166\n",
        "[iter: 0020]: rank(P) = 0008, |C|_0 = 0153, crit=0.0000007620, total sparse =1885\n",
        "RPCA takes:0.157988 seconds"
       ]
      },
      {
       "output_type": "stream",
       "stream": "stdout",
       "text": [
        "\n",
        "max ="
       ]
      },
      {
       "output_type": "stream",
       "stream": "stdout",
       "text": [
        " 25.4582085612\n",
        "min = -0.0131970701757\n",
        "total ssd =  190043.164895\n",
        "lamda =  2.4\n",
        "iter1\n",
        "[iter: 0000]: rank(P) = 0002, |C|_0 = 0000, crit=0.1540465764, total sparse =0000\n",
        "[iter: 0010]: rank(P) = 0008, |C|_0 = 0171, crit=0.0039841769, total sparse =2620\n",
        "[iter: 0020]: rank(P) = 0008, |C|_0 = 0182, crit=0.0000001588, total sparse =2476\n",
        "RPCA takes:0.153705 seconds"
       ]
      },
      {
       "output_type": "stream",
       "stream": "stdout",
       "text": [
        "\n",
        "iter2"
       ]
      },
      {
       "output_type": "stream",
       "stream": "stdout",
       "text": [
        "\n",
        "[iter: 0000]: rank(P) = 0002, |C|_0 = 0000, crit=0.1079662634, total sparse =0000\n",
        "[iter: 0010]: rank(P) = 0007, |C|_0 = 0189, crit=0.0049631656, total sparse =2108\n",
        "[iter: 0020]: rank(P) = 0008, |C|_0 = 0162, crit=0.0000005437, total sparse =1797\n",
        "RPCA takes:0.160484 seconds"
       ]
      },
      {
       "output_type": "stream",
       "stream": "stdout",
       "text": [
        "\n",
        "iter3"
       ]
      },
      {
       "output_type": "stream",
       "stream": "stdout",
       "text": [
        "\n",
        "[iter: 0000]: rank(P) = 0002, |C|_0 = 0000, crit=0.1025908923, total sparse =0000\n",
        "[iter: 0010]: rank(P) = 0008, |C|_0 = 0164, crit=0.0052376878, total sparse =2443\n",
        "[iter: 0020]: rank(P) = 0008, |C|_0 = 0167, crit=0.0000006498, total sparse =2210\n",
        "RPCA takes:0.161111 seconds"
       ]
      },
      {
       "output_type": "stream",
       "stream": "stdout",
       "text": [
        "\n",
        "iter4"
       ]
      },
      {
       "output_type": "stream",
       "stream": "stdout",
       "text": [
        "\n",
        "[iter: 0000]: rank(P) = 0002, |C|_0 = 0000, crit=0.0977408168, total sparse =0000\n",
        "[iter: 0010]: rank(P) = 0007, |C|_0 = 0139, crit=0.0044926400, total sparse =2167\n",
        "[iter: 0020]: rank(P) = 0008, |C|_0 = 0139, crit=0.0000007155, total sparse =1949\n",
        "RPCA takes:0.162622 seconds"
       ]
      },
      {
       "output_type": "stream",
       "stream": "stdout",
       "text": [
        "\n",
        "iter5"
       ]
      },
      {
       "output_type": "stream",
       "stream": "stdout",
       "text": [
        "\n",
        "[iter: 0000]: rank(P) = 0002, |C|_0 = 0000, crit=0.0953202382, total sparse =0000\n",
        "[iter: 0010]: rank(P) = 0006, |C|_0 = 0138, crit=0.0045965307, total sparse =2036\n",
        "[iter: 0020]: rank(P) = 0008, |C|_0 = 0140, crit=0.0000006725, total sparse =1770\n",
        "RPCA takes:0.159397 seconds"
       ]
      },
      {
       "output_type": "stream",
       "stream": "stdout",
       "text": [
        "\n",
        "max ="
       ]
      },
      {
       "output_type": "stream",
       "stream": "stdout",
       "text": [
        " 25.4047183993\n",
        "min = -0.0133361782841\n",
        "total ssd =  189930.743449\n"
       ]
      },
      {
       "metadata": {},
       "output_type": "display_data",
       "png": "[encoded data removed]",
       "text": [
        "<matplotlib.figure.Figure at 0x1136aa790>"
       ]
      },
      {
       "metadata": {},
       "output_type": "display_data",
       "png": "[encoded data removed]",
       "text": [
        "<matplotlib.figure.Figure at 0x113002c10>"
       ]
      },
      {
       "metadata": {},
       "output_type": "display_data",
       "png": "[encoded data removed]",
       "text": [
        "<matplotlib.figure.Figure at 0x113402f50>"
       ]
      },
      {
       "metadata": {},
       "output_type": "display_data",
       "png": "[encoded data removed]",
       "text": [
        "<matplotlib.figure.Figure at 0x11273e610>"
       ]
      },
      {
       "metadata": {},
       "output_type": "display_data",
       "png": "[encoded data removed]",
       "text": [
        "<matplotlib.figure.Figure at 0x1131d4c10>"
       ]
      },
      {
       "metadata": {},
       "output_type": "display_data",
       "png": "[encoded data removed]",
       "text": [
        "<matplotlib.figure.Figure at 0x112bfe950>"
       ]
      },
      {
       "metadata": {},
       "output_type": "display_data",
       "png": "[encoded data removed]",
       "text": [
        "<matplotlib.figure.Figure at 0x11363be50>"
       ]
      },
      {
       "metadata": {},
       "output_type": "display_data",
       "png": "[encoded data removed]",
       "text": [
        "<matplotlib.figure.Figure at 0x112825d90>"
       ]
      },
      {
       "metadata": {},
       "output_type": "display_data",
       "png": "[encoded data removed]",
       "text": [
        "<matplotlib.figure.Figure at 0x113aae950>"
       ]
      },
      {
       "metadata": {},
       "output_type": "display_data",
       "png": "[encoded data removed]",
       "text": [
        "<matplotlib.figure.Figure at 0x113c5be10>"
       ]
      },
      {
       "metadata": {},
       "output_type": "display_data",
       "png": "[encoded data removed]",
       "text": [
        "<matplotlib.figure.Figure at 0x113aac950>"
       ]
      },
      {
       "metadata": {},
       "output_type": "display_data",
       "png": "[encoded data removed]",
       "text": [
        "<matplotlib.figure.Figure at 0x112c75e90>"
       ]
      },
      {
       "metadata": {},
       "output_type": "display_data",
       "png": "[encoded data removed]",
       "text": [
        "<matplotlib.figure.Figure at 0x113788fd0>"
       ]
      },
      {
       "metadata": {},
       "output_type": "display_data",
       "png": "[encoded data removed]",
       "text": [
        "<matplotlib.figure.Figure at 0x1135c09d0>"
       ]
      },
      {
       "metadata": {},
       "output_type": "display_data",
       "png": "[encoded data removed]",
       "text": [
        "<matplotlib.figure.Figure at 0x11343d090>"
       ]
      },
      {
       "metadata": {},
       "output_type": "display_data",
       "png": "[encoded data removed]",
       "text": [
        "<matplotlib.figure.Figure at 0x1135c2210>"
       ]
      },
      {
       "metadata": {},
       "output_type": "display_data",
       "png": "[encoded data removed]",
       "text": [
        "<matplotlib.figure.Figure at 0x11355b3d0>"
       ]
      },
      {
       "metadata": {},
       "output_type": "display_data",
       "png": "[encoded data removed]",
       "text": [
        "<matplotlib.figure.Figure at 0x1135974d0>"
       ]
      },
      {
       "metadata": {},
       "output_type": "display_data",
       "png": "[encoded data removed]",
       "text": [
        "<matplotlib.figure.Figure at 0x112f17a50>"
       ]
      },
      {
       "metadata": {},
       "output_type": "display_data",
       "png": "[encoded data removed]",
       "text": [
        "<matplotlib.figure.Figure at 0x113125550>"
       ]
      },
      {
       "metadata": {},
       "output_type": "display_data",
       "png": "[encoded data removed]",
       "text": [
        "<matplotlib.figure.Figure at 0x112f15bd0>"
       ]
      },
      {
       "metadata": {},
       "output_type": "display_data",
       "png": "[encoded data removed]",
       "text": [
        "<matplotlib.figure.Figure at 0x112fd8e50>"
       ]
      }
     ],
     "prompt_number": 62
    },
    {
     "cell_type": "code",
     "collapsed": false,
     "input": [
      "plt.figure()\n",
      "plt.plot(lamdaList, d)\n",
      "print d\n",
      "plt.title('Unbiased Low-rank Atlas SSD (error)')\n",
      "\n",
      "plt.xlabel('Weight')"
     ],
     "language": "python",
     "metadata": {},
     "outputs": [
      {
       "output_type": "stream",
       "stream": "stdout",
       "text": [
        "[  75874.06638202    8136.17225326    1979.82766537     511.23737787\n",
        "    2822.05399519    3851.51287981    4129.89413106    4598.96205354\n",
        "    4609.38667405    4660.42370492    4737.46282526    5108.27317625\n",
        "    5443.41074058    7354.52571702   10262.82446164   14441.08113685\n",
        "   43753.04059643   88986.92772635  174260.75820993  189011.45920186\n",
        "  190043.16489492  189930.74344874]\n"
       ]
      },
      {
       "metadata": {},
       "output_type": "pyout",
       "prompt_number": 63,
       "text": [
        "<matplotlib.text.Text at 0x113155f50>"
       ]
      },
      {
       "metadata": {},
       "output_type": "display_data",
       "png": "[encoded data removed]",
       "text": [
        "<matplotlib.figure.Figure at 0x113aa80d0>"
       ]
      }
     ],
     "prompt_number": 63
    }
   ],
   "metadata": {}
  }
 ]
}