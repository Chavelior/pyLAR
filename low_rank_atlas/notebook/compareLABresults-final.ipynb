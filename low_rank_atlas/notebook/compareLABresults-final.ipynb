{
 "metadata": {
  "name": "",
  "signature": "sha256:8f6d142b708d8d5539dcfb7446ad9eee6c885907c2e1277cfe497602296ec359"
 },
 "nbformat": 3,
 "nbformat_minor": 0,
 "worksheets": [
  {
   "cells": [
    {
     "cell_type": "code",
     "collapsed": false,
     "input": [
      "import glob\n",
      "import sys\n",
      "import os.path\n",
      "sys.path.append('../')\n",
      "sys.path.append('../../')\n",
      "from low_rank_atlas_iter import *\n",
      "import SimpleITK as sitk"
     ],
     "language": "python",
     "metadata": {},
     "outputs": [],
     "prompt_number": 2
    },
    {
     "cell_type": "code",
     "collapsed": false,
     "input": [
      "# Tumor Sim BRATS T1\n",
      "#  compare with BRAIN web T1 ground truth\n",
      "gtAtlasImage = '/Users/xiaoxiaoliu/work/data/BRATS/BRATS-2/Synthetic_Data/results/T1/MI/BrainWeb_UAB_MI/L0_Iter5_atlas.nrrd'\n",
      "inputIm = '/Users/xiaoxiaoliu/work/data/BRATS/BRATS-2/Synthetic_Data/results/T1/MI/UAB_T1_8Inputs_MI/L0_Iter5_atlas.nrrd'\n",
      "\n",
      "outTransformationPrefix = '/Users/xiaoxiaoliu/work/data/BRATS/BRATS-2/Synthetic_Data/results/UAB_T1_8Inputs_MI'\n",
      "\n",
      "c = geodesicDistance3D(inputIm, gtAtlasImage,outTransformationPrefix )\n",
      "print c\n",
      "\n",
      "\n",
      "inputIm = '/Users/xiaoxiaoliu/work/data/BRATS/BRATS-2/Synthetic_Data/results/T1/MI/LAB_T1_8Inputs_MI/L0_Iter5_atlas.nrrd'\n",
      "outTransformationPrefix = '/Users/xiaoxiaoliu/work/data/BRATS/BRATS-2/Synthetic_Data/results/LAB_T1_8Inputs_MI'\n",
      "\n",
      "d = geodesicDistance3D(inputIm, gtAtlasImage,outTransformationPrefix )\n",
      "print d\n"
     ],
     "language": "python",
     "metadata": {},
     "outputs": [
      {
       "output_type": "stream",
       "stream": "stdout",
       "text": [
        "0.018787\n",
        "0.016439"
       ]
      },
      {
       "output_type": "stream",
       "stream": "stdout",
       "text": [
        "\n"
       ]
      }
     ],
     "prompt_number": 3
    },
    {
     "cell_type": "code",
     "collapsed": false,
     "input": [
      "# Tumor Sim BRATS T1\n",
      "# compare with SRI24\n",
      "\n",
      "gtAtlasImage = '/Users/xiaoxiaoliu/work/data/SRI24/T1_Crop.nii.gz'\n",
      "\n",
      "inputIm = '/Users/xiaoxiaoliu/work/data/BRATS/BRATS-2/Synthetic_Data/results/T1/MI/UAB_T1_8Inputs_MI/L0_Iter5_atlas.nrrd'\n",
      "outTransformationPrefix = '/Users/xiaoxiaoliu/work/data/BRATS/BRATS-2/Synthetic_Data/results/SRI24_UAB_T1_8Inputs_MI'\n",
      "\n",
      "c = geodesicDistance3D(inputIm, gtAtlasImage,outTransformationPrefix )\n",
      "print c\n",
      "\n",
      "\n",
      "inputIm = '/Users/xiaoxiaoliu/work/data/BRATS/BRATS-2/Synthetic_Data/results/T1/MI/LAB_T1_8Inputs_MI/L0_Iter5_atlas.nrrd'\n",
      "outTransformationPrefix = '/Users/xiaoxiaoliu/work/data/BRATS/BRATS-2/Synthetic_Data/results/SRI24_LAB_T1_8Inputs_MI'\n",
      "\n",
      "d = geodesicDistance3D(inputIm, gtAtlasImage,outTransformationPrefix )\n",
      "print d\n"
     ],
     "language": "python",
     "metadata": {},
     "outputs": [
      {
       "output_type": "stream",
       "stream": "stdout",
       "text": [
        "0.01912\n",
        "0.018649"
       ]
      },
      {
       "output_type": "stream",
       "stream": "stdout",
       "text": [
        "\n"
       ]
      }
     ],
     "prompt_number": 4
    },
    {
     "cell_type": "code",
     "collapsed": false,
     "input": [
      "# Tumor Sim BRATS FLAIR\n",
      "# compare with brainweb t1 atlas, using MI\n",
      "gtAtlasImage = '/Users/xiaoxiaoliu/work/data/BRATS/BRATS-2/Synthetic_Data/results/T1/MI/BrainWeb_UAB_MI/L0_Iter5_atlas.nrrd'\n",
      "\n",
      "inputIm4 = '/Users/xiaoxiaoliu/work/data/BRATS/BRATS-2/Synthetic_Data/results/Flair/UAB_Flair_8Inputs_MI/L0_Iter5_atlas.nrrd'\n",
      "outTransformationPrefix4 = '/Users/xiaoxiaoliu/work/data/BRATS/BRATS-2/Synthetic_Data/results/UAB_Flair_8Inputs_MI'\n",
      "\n",
      "f = geodesicDistance3D(inputIm4, gtAtlasImage,outTransformationPrefix4 )\n",
      "print f\n",
      "\n",
      "inputIm3 = '/Users/xiaoxiaoliu/work/data/BRATS/BRATS-2/Synthetic_Data/results/Flair/LAB_Flair_8Inputs_MI/L0_Iter5_atlas.nrrd'\n",
      "outTransformationPrefix3 = '/Users/xiaoxiaoliu/work/data/BRATS/BRATS-2/Synthetic_Data/results/LAB_Flair_8Inputs_MI'\n",
      "\n",
      "e = geodesicDistance3D(inputIm3, gtAtlasImage,outTransformationPrefix3 )\n",
      "print e\n"
     ],
     "language": "python",
     "metadata": {},
     "outputs": [
      {
       "output_type": "stream",
       "stream": "stdout",
       "text": [
        "0.012875\n",
        "0.011002"
       ]
      },
      {
       "output_type": "stream",
       "stream": "stdout",
       "text": [
        "\n"
       ]
      }
     ],
     "prompt_number": 5
    },
    {
     "cell_type": "code",
     "collapsed": false,
     "input": [
      "# Tumor Sim BRATS FLAIR\n",
      "# compare with SRI24, using MI\n",
      "gtAtlasImage = '/Users/xiaoxiaoliu/work/data/SRI24/T1_Crop.nii.gz'\n",
      "\n",
      "inputIm4 = '/Users/xiaoxiaoliu/work/data/BRATS/BRATS-2/Synthetic_Data/results/Flair/UAB_Flair_8Inputs_MI/L0_Iter5_atlas.nrrd'\n",
      "outTransformationPrefix4 = '/Users/xiaoxiaoliu/work/data/BRATS/BRATS-2/Synthetic_Data/results/UAB_Flair_8Inputs_MI'\n",
      "\n",
      "f = geodesicDistance3D(inputIm4, gtAtlasImage,outTransformationPrefix4 )\n",
      "print f\n",
      "\n",
      "inputIm3 = '/Users/xiaoxiaoliu/work/data/BRATS/BRATS-2/Synthetic_Data/results/Flair/LAB_Flair_8Inputs_MI/L0_Iter5_atlas.nrrd'\n",
      "outTransformationPrefix3 = '/Users/xiaoxiaoliu/work/data/BRATS/BRATS-2/Synthetic_Data/results/LAB_Flair_8Inputs_MI'\n",
      "\n",
      "e = geodesicDistance3D(inputIm3, gtAtlasImage,outTransformationPrefix3 )\n",
      "print e"
     ],
     "language": "python",
     "metadata": {},
     "outputs": [
      {
       "output_type": "stream",
       "stream": "stdout",
       "text": [
        "0.015542\n",
        "0.015539"
       ]
      },
      {
       "output_type": "stream",
       "stream": "stdout",
       "text": [
        "\n"
       ]
      }
     ],
     "prompt_number": 7
    },
    {
     "cell_type": "code",
     "collapsed": false,
     "input": [
      "# real patient\n",
      "\n",
      "gtAtlasImage = '/Users/xiaoxiaoliu/work/data/SRI24/T1_Crop.nii.gz'\n",
      "#inputIm5 = '/Users/xiaoxiaoliu/work/data/BRATS/BRATS-2/Image_Data/results/LAB_ANTS_MI_FLAIR/L0_Iter5_atlas.nrrd'\n",
      "\n",
      "#outTransformationPrefix5 = '/Users/xiaoxiaoliu/work/data/BRATS/BRATS-2/Image_Data/results/LAB_ANTS_MI_FLAIR'\n",
      "\n",
      "#a = geodesicDistance3D(inputIm5, gtAtlasImage,outTransformationPrefix5 )\n",
      "#print a\n",
      "\n",
      "\n",
      "inputIm6 = '/Users/xiaoxiaoliu/work/data/BRATS/BRATS-2/Image_Data/results/UAB_Flair_SSD/L0_Iter4_atlas.nrrd'\n",
      "outTransformationPrefix6 = '/Users/xiaoxiaoliu/work/data/BRATS/BRATS-2/Image_Data/results/UAB_Flair_SSD'\n",
      "\n",
      "b = geodesicDistance3D(inputIm6, gtAtlasImage,outTransformationPrefix6)\n",
      "print b\n",
      "\n",
      "\n",
      "inputIm6 = '/Users/xiaoxiaoliu/work/data/BRATS/BRATS-2/Image_Data/results/LAB_ANTS_SSD_FLAIR/L0_Iter5_atlas.nrrd'\n",
      "outTransformationPrefix6 = '/Users/xiaoxiaoliu/work/data/BRATS/BRATS-2/Image_Data/results/LAB_ANTS_SSD_FLAIR'\n",
      "gtAtlasImage = '/Users/xiaoxiaoliu/work/data/SRI24/T1_Crop.nii.gz'\n",
      "b = geodesicDistance3D(inputIm6, gtAtlasImage,outTransformationPrefix6)\n",
      "print b\n",
      "\n"
     ],
     "language": "python",
     "metadata": {},
     "outputs": [
      {
       "output_type": "stream",
       "stream": "stdout",
       "text": [
        "0.01702\n",
        "0.017402"
       ]
      },
      {
       "output_type": "stream",
       "stream": "stdout",
       "text": [
        "\n"
       ]
      }
     ],
     "prompt_number": 6
    }
   ],
   "metadata": {}
  }
 ]
}