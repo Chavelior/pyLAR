{
 "metadata": {
  "name": "",
  "signature": "sha256:536cb8ec60d2d5c78019a35814fb34010ef66653510448b08f50d9efe05bdd34"
 },
 "nbformat": 3,
 "nbformat_minor": 0,
 "worksheets": [
  {
   "cells": [
    {
     "cell_type": "code",
     "collapsed": false,
     "input": [
      "import glob\n",
      "import sys\n",
      "import os.path\n",
      "sys.path.append('../')\n",
      "sys.path.append('../../')\n",
      "from low_rank_atlas_iter import *\n",
      "import SimpleITK as sitk"
     ],
     "language": "python",
     "metadata": {},
     "outputs": [],
     "prompt_number": 1
    },
    {
     "cell_type": "code",
     "collapsed": false,
     "input": [
      "# Tumor Sim BRATS T1\n",
      "\n",
      "inputIm = '/Users/xiaoxiaoliu/work/data/BRATS/BRATS-2/Synthetic_Data/results/T1/MI/UAB_T1_8Inputs_MI/L0_Iter5_atlas.nrrd'\n",
      "gtAtlasImage = '/Users/xiaoxiaoliu/work/data/SRI24/T1_Crop.nii.gz'\n",
      "outTransformationPrefix = '/Users/xiaoxiaoliu/work/data/BRATS/BRATS-2/Synthetic_Data/results/compare_to_SRI24/new_UAB_T1_8Inputs_MI'\n",
      "\n",
      "c = geodesicDistance3D(inputIm, gtAtlasImage,outTransformationPrefix )\n",
      "print c\n",
      "\n",
      "\n",
      "inputIm = '/Users/xiaoxiaoliu/work/data/BRATS/BRATS-2/Synthetic_Data/results/T1/MI/LAB_T1_8Inputs_MI/L0_Iter5_atlas.nrrd'\n",
      "gtAtlasImage = '/Users/xiaoxiaoliu/work/data/SRI24/T1_Crop.nii.gz'\n",
      "outTransformationPrefix = '/Users/xiaoxiaoliu/work/data/BRATS/BRATS-2/Synthetic_Data/results/compare_to_SRI24/new_LAB_T1_8Inputs_MI'\n",
      "\n",
      "d = geodesicDistance3D(inputIm, gtAtlasImage,outTransformationPrefix )\n",
      "print d\n"
     ],
     "language": "python",
     "metadata": {},
     "outputs": [
      {
       "output_type": "stream",
       "stream": "stdout",
       "text": [
        "0.0088227\n",
        "0.0071314"
       ]
      },
      {
       "output_type": "stream",
       "stream": "stdout",
       "text": [
        "\n"
       ]
      }
     ],
     "prompt_number": 2
    },
    {
     "cell_type": "code",
     "collapsed": false,
     "input": [
      "# compare with BRAINT web T1 ground truth\n",
      "\n",
      "gtAtlasImage = '/Users/xiaoxiaoliu/work/data/BRATS/BRATS-2/Synthetic_Data/results/T1/MI/BrainWeb_UAB_MI/L0_Iter5_atlas.nrrd'\n",
      "\n",
      "inputIm = '/Users/xiaoxiaoliu/work/data/BRATS/BRATS-2/Synthetic_Data/results/T1/MI/UAB_T1_8Inputs_MI/L0_Iter5_atlas.nrrd'\n",
      "\n",
      "outTransformationPrefix = '/Users/xiaoxiaoliu/work/data/BRATS/BRATS-2/Synthetic_Data/results/compare_to_BrainWebT1/new_UAB_T1_8Inputs_MI'\n",
      "\n",
      "c = geodesicDistance3D(inputIm, gtAtlasImage,outTransformationPrefix )\n",
      "print c\n",
      "\n",
      "\n",
      "inputIm = '/Users/xiaoxiaoliu/work/data/BRATS/BRATS-2/Synthetic_Data/results/T1/MI/LAB_T1_8Inputs_MI/L0_Iter5_atlas.nrrd'\n",
      "outTransformationPrefix = '/Users/xiaoxiaoliu/work/data/BRATS/BRATS-2/Synthetic_Data/results/compare_to_BrainWebT1/new_LAB_T1_8Inputs_MI'\n",
      "\n",
      "d = geodesicDistance3D(inputIm, gtAtlasImage,outTransformationPrefix )\n",
      "print d\n"
     ],
     "language": "python",
     "metadata": {},
     "outputs": [
      {
       "output_type": "stream",
       "stream": "stdout",
       "text": [
        "0.0076676\n",
        "0.0065599"
       ]
      },
      {
       "output_type": "stream",
       "stream": "stdout",
       "text": [
        "\n"
       ]
      }
     ],
     "prompt_number": 3
    }
   ],
   "metadata": {}
  }
 ]
}